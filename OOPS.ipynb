{
 "cells": [
  {
   "cell_type": "markdown",
   "metadata": {},
   "source": [
    "## __OOPS - Object Oriented Programming Style__\n",
    "\n",
    " - Object-oriented programming aims to implement real-world entities like inheritance, hiding, polymorphism, etc in programming. The main aim of OOP is to bind together the data and the functions that operate on them so that no other part of the code access this data except that function.\n",
    " - Classes and object are two main aspects of OOPs\n",
    " - Classes are the user-defined blueprints that help us create an object.\n",
    " - Objects are the instances of a particular class."
   ]
  },
  {
   "cell_type": "code",
   "execution_count": 32,
   "metadata": {},
   "outputs": [],
   "source": [
    "class car:\n",
    "    name = \"Maruto 800\"\n",
    "    color = \"Red\"\n",
    "    age = 2\n",
    "\n",
    "    def describe(self):\n",
    "        print(\"This is a car function. Describe cars here.\")"
   ]
  },
  {
   "cell_type": "code",
   "execution_count": 34,
   "metadata": {},
   "outputs": [],
   "source": [
    "b = car()\n",
    "a = car()\n",
    "a.name = \"Mercedes\"\n",
    "a.color = \"silver\"\n",
    "a.age = 3"
   ]
  },
  {
   "cell_type": "code",
   "execution_count": 35,
   "metadata": {},
   "outputs": [
    {
     "data": {
      "text/plain": [
       "'Mercedes'"
      ]
     },
     "execution_count": 35,
     "metadata": {},
     "output_type": "execute_result"
    }
   ],
   "source": [
    "a.name"
   ]
  },
  {
   "cell_type": "code",
   "execution_count": 36,
   "metadata": {},
   "outputs": [
    {
     "data": {
      "text/plain": [
       "3"
      ]
     },
     "execution_count": 36,
     "metadata": {},
     "output_type": "execute_result"
    }
   ],
   "source": [
    "a.age"
   ]
  },
  {
   "cell_type": "code",
   "execution_count": 37,
   "metadata": {},
   "outputs": [
    {
     "data": {
      "text/plain": [
       "'silver'"
      ]
     },
     "execution_count": 37,
     "metadata": {},
     "output_type": "execute_result"
    }
   ],
   "source": [
    "a.color"
   ]
  },
  {
   "cell_type": "code",
   "execution_count": null,
   "metadata": {},
   "outputs": [],
   "source": []
  },
  {
   "cell_type": "code",
   "execution_count": 38,
   "metadata": {},
   "outputs": [
    {
     "name": "stdout",
     "output_type": "stream",
     "text": [
      "Maruto 800 Red 2\n"
     ]
    }
   ],
   "source": [
    "print(b.name, b.color, b.age)"
   ]
  },
  {
   "cell_type": "code",
   "execution_count": 40,
   "metadata": {},
   "outputs": [
    {
     "name": "stdout",
     "output_type": "stream",
     "text": [
      "This is a car function. Describe cars here.\n"
     ]
    }
   ],
   "source": [
    "b.describe()"
   ]
  },
  {
   "cell_type": "code",
   "execution_count": 41,
   "metadata": {},
   "outputs": [
    {
     "name": "stdout",
     "output_type": "stream",
     "text": [
      "This is a car function. Describe cars here.\n"
     ]
    }
   ],
   "source": [
    "a.describe()"
   ]
  },
  {
   "cell_type": "markdown",
   "metadata": {},
   "source": [
    "### For empty class"
   ]
  },
  {
   "cell_type": "code",
   "execution_count": 30,
   "metadata": {},
   "outputs": [],
   "source": [
    "class car: #empty class is not allowed so we just write the pass keyword inside that class\n",
    "    pass"
   ]
  },
  {
   "cell_type": "markdown",
   "metadata": {},
   "source": [
    "## Self argument\n",
    "\n",
    " - The first argument of method of a class is generally referred as 'self'.\n",
    " - <code>self</code> refers to the calling object.\n",
    " - This argument is passed implicity by the python interpreter and need not be mentioned while calling."
   ]
  },
  {
   "cell_type": "code",
   "execution_count": 42,
   "metadata": {},
   "outputs": [],
   "source": [
    "class car:\n",
    "    def describe(self):\n",
    "        print(\"car name = \", self.name)\n",
    "        print(\"car color = \", self.color)\n",
    "        print(\"car age = \", self.age)\n",
    "\n",
    "    def isBanned(self):\n",
    "        if self.age > 15:\n",
    "            return True\n",
    "        else:\n",
    "            return False"
   ]
  },
  {
   "cell_type": "code",
   "execution_count": 43,
   "metadata": {},
   "outputs": [],
   "source": [
    "benz = car()\n",
    "benz.name = \"Mercedes\"\n",
    "benz.color = \"silver\"\n",
    "benz.age = 3"
   ]
  },
  {
   "cell_type": "code",
   "execution_count": 44,
   "metadata": {},
   "outputs": [],
   "source": [
    "maruti = car()\n",
    "maruti.name = \"Maruti 800\"\n",
    "maruti.color = \"Red\"\n",
    "maruti.age = 20"
   ]
  },
  {
   "cell_type": "code",
   "execution_count": 45,
   "metadata": {},
   "outputs": [
    {
     "name": "stdout",
     "output_type": "stream",
     "text": [
      "car name =  Mercedes\n",
      "car color =  silver\n",
      "car age =  3\n"
     ]
    }
   ],
   "source": [
    "benz.describe()"
   ]
  },
  {
   "cell_type": "code",
   "execution_count": 46,
   "metadata": {},
   "outputs": [
    {
     "name": "stdout",
     "output_type": "stream",
     "text": [
      "car name =  Maruti 800\n",
      "car color =  Red\n",
      "car age =  20\n"
     ]
    }
   ],
   "source": [
    "maruti.describe()"
   ]
  },
  {
   "cell_type": "markdown",
   "metadata": {},
   "source": [
    "## __init__() method\n",
    "\n",
    " - <code> __ __init__ __() </code>is a special method inside a class that allows us to define the properties/attributes while creating it.\n",
    " - It is special method that is called/invoked automatically when the object is created. The user need not call it.\n",
    " - It is similar to \"Constuctors\" in C++ and Java.\n",
    "\n",
    " Synatx:\n",
    " <pre>\n",
    "    class car:\n",
    "\n",
    "        def __init__(self):\n",
    "\n",
    "            ... initialisation...\n",
    "</pre>"
   ]
  },
  {
   "cell_type": "code",
   "execution_count": 47,
   "metadata": {},
   "outputs": [],
   "source": [
    "class car:\n",
    "    def __init__(self, name, color, age):\n",
    "        self.name = name\n",
    "        self.color = color\n",
    "        self.age = age\n",
    "\n",
    "    def describe(self):\n",
    "        print(\"car name = \", self.name)\n",
    "        print(\"car color = \", self.color)\n",
    "        print(\"car age = \", self.age)\n",
    "\n",
    "    def isBanned(self):\n",
    "        if self.age > 15:\n",
    "            return True\n",
    "        else:\n",
    "            return False"
   ]
  },
  {
   "cell_type": "code",
   "execution_count": 48,
   "metadata": {},
   "outputs": [],
   "source": [
    "benz = car(\"Mercedes\",\"silver\",20)"
   ]
  },
  {
   "cell_type": "code",
   "execution_count": 53,
   "metadata": {},
   "outputs": [
    {
     "data": {
      "text/plain": [
       "'Mercedes'"
      ]
     },
     "execution_count": 53,
     "metadata": {},
     "output_type": "execute_result"
    }
   ],
   "source": [
    "benz.name"
   ]
  },
  {
   "cell_type": "code",
   "execution_count": 54,
   "metadata": {},
   "outputs": [
    {
     "data": {
      "text/plain": [
       "'silver'"
      ]
     },
     "execution_count": 54,
     "metadata": {},
     "output_type": "execute_result"
    }
   ],
   "source": [
    "benz.color"
   ]
  },
  {
   "cell_type": "code",
   "execution_count": 56,
   "metadata": {},
   "outputs": [
    {
     "name": "stdout",
     "output_type": "stream",
     "text": [
      "car name =  Mercedes\n",
      "car color =  silver\n",
      "car age =  20\n"
     ]
    }
   ],
   "source": [
    "benz.describe()"
   ]
  },
  {
   "cell_type": "code",
   "execution_count": 57,
   "metadata": {},
   "outputs": [
    {
     "data": {
      "text/plain": [
       "True"
      ]
     },
     "execution_count": 57,
     "metadata": {},
     "output_type": "execute_result"
    }
   ],
   "source": [
    "benz.isBanned()"
   ]
  },
  {
   "cell_type": "code",
   "execution_count": 64,
   "metadata": {},
   "outputs": [
    {
     "name": "stdout",
     "output_type": "stream",
     "text": [
      "Rex\n",
      "5\n",
      "Rex says woof!\n",
      "6\n"
     ]
    }
   ],
   "source": [
    "class Dog:\n",
    "    def __init__(self, name, age):\n",
    "        self.name = name  # Instance variable\n",
    "        self.age = age    # Instance variable\n",
    "    \n",
    "    def bark(self):\n",
    "        print(f\"{self.name} says woof!\")\n",
    "    \n",
    "    def get_age(self):\n",
    "        return self.age\n",
    "\n",
    "    def set_age(self, new_age):\n",
    "        self.age = new_age  # Modify the instance variable\n",
    "\n",
    "# Create an instance of the Dog class\n",
    "my_dog = Dog(name=\"Rex\", age=5)\n",
    "\n",
    "# Access instance variables and methods\n",
    "print(my_dog.name)       # Output: Rex\n",
    "print(my_dog.get_age())  # Output: 5\n",
    "my_dog.bark()            # Output: Rex says woof!\n",
    "\n",
    "# Update instance variable using a method\n",
    "my_dog.set_age(6)\n",
    "print(my_dog.get_age())  # Output: 6\n"
   ]
  },
  {
   "cell_type": "code",
   "execution_count": 65,
   "metadata": {},
   "outputs": [],
   "source": [
    "class Wizard:\n",
    "    def __init__(self, name, age, spell):\n",
    "        self.name = name\n",
    "        self.age = age\n",
    "        self.spell = spell\n",
    "\n",
    "    def magic(self):\n",
    "        print(\"cast spell - \", self.spell)\n",
    "        "
   ]
  },
  {
   "cell_type": "code",
   "execution_count": 66,
   "metadata": {},
   "outputs": [],
   "source": [
    "harry = Wizard(\"Harry potter\", 20, \"Expelliarmus\")"
   ]
  },
  {
   "cell_type": "code",
   "execution_count": 67,
   "metadata": {},
   "outputs": [
    {
     "name": "stdout",
     "output_type": "stream",
     "text": [
      "cast spell -  Expelliarmus\n"
     ]
    }
   ],
   "source": [
    "harry.magic()"
   ]
  },
  {
   "cell_type": "code",
   "execution_count": 68,
   "metadata": {},
   "outputs": [],
   "source": [
    "voldymod = Wizard(\"He who must not be named\", 76, \"Avada kedavara\")"
   ]
  },
  {
   "cell_type": "code",
   "execution_count": 69,
   "metadata": {},
   "outputs": [
    {
     "name": "stdout",
     "output_type": "stream",
     "text": [
      "cast spell -  Avada kedavara\n"
     ]
    }
   ],
   "source": [
    "voldymod.magic()"
   ]
  },
  {
   "cell_type": "markdown",
   "metadata": {},
   "source": [
    "## Encapsulation\n",
    "\n",
    "Wrapping up the data properties and the methods inside a single entity together."
   ]
  },
  {
   "cell_type": "code",
   "execution_count": null,
   "metadata": {},
   "outputs": [],
   "source": []
  },
  {
   "cell_type": "code",
   "execution_count": null,
   "metadata": {},
   "outputs": [],
   "source": []
  },
  {
   "cell_type": "code",
   "execution_count": null,
   "metadata": {},
   "outputs": [],
   "source": []
  },
  {
   "cell_type": "markdown",
   "metadata": {},
   "source": [
    "## Data Abstraction\n",
    "\n",
    "The act of hiding the inner workings of your class"
   ]
  },
  {
   "cell_type": "code",
   "execution_count": null,
   "metadata": {},
   "outputs": [],
   "source": []
  },
  {
   "cell_type": "code",
   "execution_count": null,
   "metadata": {},
   "outputs": [],
   "source": []
  },
  {
   "cell_type": "code",
   "execution_count": null,
   "metadata": {},
   "outputs": [],
   "source": []
  },
  {
   "cell_type": "markdown",
   "metadata": {},
   "source": [
    "## OOPS Concepts\n",
    "DEMPI\n",
    "\n",
    "1. Data Abstraction\n",
    "2. Encapsulation\n",
    "3. Modularity\n",
    "4. Polymorphism\n",
    "5. Inheritance"
   ]
  },
  {
   "cell_type": "code",
   "execution_count": 76,
   "metadata": {},
   "outputs": [
    {
     "data": {
      "text/plain": [
       "['__add__',\n",
       " '__class__',\n",
       " '__class_getitem__',\n",
       " '__contains__',\n",
       " '__delattr__',\n",
       " '__delitem__',\n",
       " '__dir__',\n",
       " '__doc__',\n",
       " '__eq__',\n",
       " '__format__',\n",
       " '__ge__',\n",
       " '__getattribute__',\n",
       " '__getitem__',\n",
       " '__getstate__',\n",
       " '__gt__',\n",
       " '__hash__',\n",
       " '__iadd__',\n",
       " '__imul__',\n",
       " '__init__',\n",
       " '__init_subclass__',\n",
       " '__iter__',\n",
       " '__le__',\n",
       " '__len__',\n",
       " '__lt__',\n",
       " '__mul__',\n",
       " '__ne__',\n",
       " '__new__',\n",
       " '__reduce__',\n",
       " '__reduce_ex__',\n",
       " '__repr__',\n",
       " '__reversed__',\n",
       " '__rmul__',\n",
       " '__setattr__',\n",
       " '__setitem__',\n",
       " '__sizeof__',\n",
       " '__str__',\n",
       " '__subclasshook__',\n",
       " 'append',\n",
       " 'clear',\n",
       " 'copy',\n",
       " 'count',\n",
       " 'extend',\n",
       " 'index',\n",
       " 'insert',\n",
       " 'pop',\n",
       " 'remove',\n",
       " 'reverse',\n",
       " 'sort']"
      ]
     },
     "execution_count": 76,
     "metadata": {},
     "output_type": "execute_result"
    }
   ],
   "source": [
    "a = []\n",
    "dir(a)"
   ]
  },
  {
   "cell_type": "code",
   "execution_count": 84,
   "metadata": {},
   "outputs": [
    {
     "name": "stdout",
     "output_type": "stream",
     "text": [
      "<__main__.car.seat object at 0x00000259E942B6B0>\n"
     ]
    }
   ],
   "source": [
    "class car:\n",
    "    class seat:\n",
    "        def __init__(self):\n",
    "            self.color = \"grey\"\n",
    "\n",
    "    def __init__(self):\n",
    "        self.name = \"Lamborghini\"\n",
    "\n",
    "\n",
    "    def drive(self):\n",
    "        s = self.seat()\n",
    "        print(s)\n",
    "\n",
    "c = car()\n",
    "c.drive()"
   ]
  },
  {
   "cell_type": "code",
   "execution_count": null,
   "metadata": {},
   "outputs": [],
   "source": []
  },
  {
   "cell_type": "code",
   "execution_count": null,
   "metadata": {},
   "outputs": [],
   "source": []
  },
  {
   "cell_type": "code",
   "execution_count": null,
   "metadata": {},
   "outputs": [],
   "source": []
  }
 ],
 "metadata": {
  "kernelspec": {
   "display_name": "Python 3",
   "language": "python",
   "name": "python3"
  },
  "language_info": {
   "codemirror_mode": {
    "name": "ipython",
    "version": 3
   },
   "file_extension": ".py",
   "mimetype": "text/x-python",
   "name": "python",
   "nbconvert_exporter": "python",
   "pygments_lexer": "ipython3",
   "version": "3.12.4"
  }
 },
 "nbformat": 4,
 "nbformat_minor": 2
}
