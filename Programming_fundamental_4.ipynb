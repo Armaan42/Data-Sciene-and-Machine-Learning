{
 "cells": [
  {
   "cell_type": "markdown",
   "metadata": {},
   "source": [
    "# Functions\n",
    "\n",
    "A function is a block of code which only runs when it is called.\n",
    "\n",
    "In python a function is defined with the 'def' keyword.\n",
    "\n",
    "functions can accept any number of arguments of any type.\n",
    "\n",
    "Arguments can have default as well.\n",
    "\n",
    "while calling functions, the user may define arguments as keyword pairs."
   ]
  },
  {
   "cell_type": "code",
   "execution_count": null,
   "metadata": {},
   "outputs": [],
   "source": [
    "def area_of_rectangle(length,breadth):\n",
    "    area = length*breadth\n",
    "    return area\n",
    " \n",
    "length = 20\n",
    "breadth = 20\n",
    "result = area_of_rectangle(length, breadth)\n",
    "print(\"The area of rectangle : \",result)\n"
   ]
  },
  {
   "cell_type": "markdown",
   "metadata": {},
   "source": [
    "### Write a function to say hello to people by their names"
   ]
  },
  {
   "cell_type": "code",
   "execution_count": null,
   "metadata": {},
   "outputs": [],
   "source": [
    "def hello(name):\n",
    "    print(\"hello\",name)\n",
    "\n",
    "name = input()\n",
    "hello(name)"
   ]
  },
  {
   "cell_type": "markdown",
   "metadata": {},
   "source": [
    "### Function example_1"
   ]
  },
  {
   "cell_type": "code",
   "execution_count": null,
   "metadata": {},
   "outputs": [],
   "source": [
    "def chocolate(ram, lakshman, sita):\n",
    "    print(\"Ram got\",ram,\"chocolate\", \"lakshman got\",lakshman,\"and sita got\",sita)\n",
    "\n",
    "ram = input()\n",
    "lakshman = input()\n",
    "sita = input()\n",
    "\n",
    "chocolate(ram, lakshman, sita)"
   ]
  },
  {
   "cell_type": "markdown",
   "metadata": {},
   "source": [
    "### Function example_2"
   ]
  },
  {
   "cell_type": "code",
   "execution_count": null,
   "metadata": {},
   "outputs": [],
   "source": [
    "def fight(name, age, villians):\n",
    "    print(\"Hero named\",name, \"at age\",age,\"was fighting all these villians - \",villians)\n",
    "\n",
    "name = input()\n",
    "age = int(input())\n",
    "villians = input()\n",
    "\n",
    "fight(name, age, villians)"
   ]
  },
  {
   "cell_type": "markdown",
   "metadata": {},
   "source": [
    "## Return data from a function"
   ]
  },
  {
   "cell_type": "code",
   "execution_count": null,
   "metadata": {},
   "outputs": [],
   "source": [
    "def cube(x):\n",
    "    return (x**3)\n",
    "\n",
    "x = int(input(\"Enter the number : \"))\n",
    "cube(x)"
   ]
  },
  {
   "cell_type": "markdown",
   "metadata": {},
   "source": [
    "# Call stack"
   ]
  },
  {
   "cell_type": "markdown",
   "metadata": {},
   "source": [
    "call stack means that the python execute the main function which is being called and then it will execute the function which is called through it like in below example firstly, we called pythagores function and then through that we also called square function.\n",
    "\n"
   ]
  },
  {
   "cell_type": "code",
   "execution_count": null,
   "metadata": {},
   "outputs": [],
   "source": [
    "def square(x):\n",
    "    return x**2\n",
    "\n",
    "def pythagores(a,b):\n",
    "    c2 = square(a) + square(b)\n",
    "    return c2\n",
    "\n",
    "pythagores(4,5)\n"
   ]
  },
  {
   "cell_type": "markdown",
   "metadata": {},
   "source": [
    "## Scope of the variable\n",
    "\n",
    "The location where we can find a variable and also access it if required is called the scope of a variable.\n",
    "\n",
    "<b>Global variable</b> are the ones that are defined and declared outside any function and are not specified to any function. They can be used by any part of the program.\n"
   ]
  },
  {
   "cell_type": "code",
   "execution_count": null,
   "metadata": {},
   "outputs": [],
   "source": [
    "# example_1\n",
    "\n",
    "def square(x):\n",
    "    return x**2\n",
    "\n",
    "def pythagores(a,b):\n",
    "    c2 = square(a) + square(b)\n",
    "    return c2\n",
    "\n",
    "e = int(input())\n",
    "g = int(input())\n",
    "pythagores(e,g)\n",
    "\n",
    "\n",
    "# like in above example the varibles which are under some function like variables a & b there scope are limited to under pythagores function only there is not existence of variables a & b outside that function\n",
    "\n",
    "# and the variables e & g they are operated or used from anywhere in this program.\n"
   ]
  },
  {
   "cell_type": "code",
   "execution_count": null,
   "metadata": {},
   "outputs": [],
   "source": [
    "#example_2\n",
    "\n",
    "x = 10 # here the variable x is global variable.\n",
    "\n",
    "def addition(y): # here the variable y is local variable.\n",
    "    sum = x + y\n",
    "    return sum\n",
    "\n",
    "addition(5)"
   ]
  },
  {
   "cell_type": "markdown",
   "metadata": {},
   "source": [
    "what if the same variable named variable is also present in some function\n",
    "\n",
    "In the below example_1 insisted of global variable x having value 10 and new variable is created valued x=2\n",
    "it will now print the answer as 7\n",
    "\n",
    "But if we want to tell the program to use global variable we need to write word global refer example_2"
   ]
  },
  {
   "cell_type": "code",
   "execution_count": null,
   "metadata": {},
   "outputs": [],
   "source": [
    "# example_1\n",
    "\n",
    "x = 10 \n",
    "\n",
    "def addition(y): \n",
    "    x = 2\n",
    "    sum = x + y\n",
    "    return sum\n",
    "\n",
    "addition(5)\n"
   ]
  },
  {
   "cell_type": "code",
   "execution_count": null,
   "metadata": {},
   "outputs": [],
   "source": [
    "# example_2\n",
    "\n",
    "x = 10 \n",
    "\n",
    "def addition(y): \n",
    "    global x\n",
    "    sum = x + y\n",
    "    return sum\n",
    "\n",
    "addition(5)\n"
   ]
  },
  {
   "cell_type": "markdown",
   "metadata": {},
   "source": [
    "Write a generic function to check prime numbers"
   ]
  },
  {
   "cell_type": "code",
   "execution_count": 4,
   "metadata": {},
   "outputs": [
    {
     "name": "stdout",
     "output_type": "stream",
     "text": [
      "Prime_number\n"
     ]
    }
   ],
   "source": [
    "def check_prime(x):\n",
    "    count=0\n",
    "    for i in range(1,x+1):\n",
    "        if(x%i == 0):\n",
    "            count=count+1\n",
    "\n",
    "    if(count==2):\n",
    "        return True\n",
    "    else:\n",
    "        return False\n",
    "\n",
    "x=int(input())\n",
    "\n",
    "if(check_prime(x)):\n",
    "    print(\"Prime_number\")\n",
    "else:\n",
    "    print(\"Not_a_prime_number\")"
   ]
  },
  {
   "cell_type": "markdown",
   "metadata": {},
   "source": [
    "Write a generic function to print all the prime number between specific range"
   ]
  },
  {
   "cell_type": "code",
   "execution_count": null,
   "metadata": {},
   "outputs": [],
   "source": []
  },
  {
   "cell_type": "markdown",
   "metadata": {},
   "source": [
    "## Map function"
   ]
  },
  {
   "cell_type": "code",
   "execution_count": null,
   "metadata": {},
   "outputs": [],
   "source": [
    "def square(x):\n",
    "    return (x**2)\n",
    "\n",
    "a = [2,3,4,5]"
   ]
  },
  {
   "cell_type": "markdown",
   "metadata": {},
   "source": [
    "To generate the list square of number in list 'a'\n",
    "\n",
    "b = [4,9,16,25]"
   ]
  },
  {
   "cell_type": "code",
   "execution_count": null,
   "metadata": {},
   "outputs": [],
   "source": [
    "# Method_1\n",
    "\n",
    "b = []\n",
    "for i in a:\n",
    "    b.append(square(i))\n",
    "\n",
    "print(b)"
   ]
  },
  {
   "cell_type": "markdown",
   "metadata": {},
   "source": [
    "You want to call a function on all elements of an iterable ( list, range, tuple, set )"
   ]
  },
  {
   "cell_type": "code",
   "execution_count": null,
   "metadata": {},
   "outputs": [],
   "source": [
    "# Method_2 (using map function)\n",
    "\n",
    "b = list(map(square, a))\n",
    "print(b)"
   ]
  },
  {
   "cell_type": "markdown",
   "metadata": {},
   "source": [
    "## Lambda Function\n",
    "\n",
    "Also known as Lambda expression\n",
    "\n",
    "A lambda function is a small anonymous function.\n",
    "\n",
    "A lambda function can take any number of arguments, but can only have one expression.\n",
    "\n",
    "<pre>\n",
    "    square = lambda n:n**2\n",
    "    print(square(5)) #25\n",
    "\n",
    "</pre>"
   ]
  },
  {
   "cell_type": "code",
   "execution_count": null,
   "metadata": {},
   "outputs": [],
   "source": [
    "#example_1\n",
    "square = lambda n:n**2\n",
    "square(10)"
   ]
  },
  {
   "cell_type": "code",
   "execution_count": null,
   "metadata": {},
   "outputs": [],
   "source": [
    "#example_2\n",
    "multiply = lambda a, b : a*b\n",
    "multiply(5, 5)"
   ]
  },
  {
   "cell_type": "code",
   "execution_count": null,
   "metadata": {},
   "outputs": [],
   "source": []
  }
 ],
 "metadata": {
  "kernelspec": {
   "display_name": "Python 3",
   "language": "python",
   "name": "python3"
  },
  "language_info": {
   "codemirror_mode": {
    "name": "ipython",
    "version": 3
   },
   "file_extension": ".py",
   "mimetype": "text/x-python",
   "name": "python",
   "nbconvert_exporter": "python",
   "pygments_lexer": "ipython3",
   "version": "3.12.4"
  },
  "orig_nbformat": 4
 },
 "nbformat": 4,
 "nbformat_minor": 2
}
