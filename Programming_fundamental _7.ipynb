{
 "cells": [
  {
   "cell_type": "markdown",
   "metadata": {},
   "source": [
    "# Function - Kwargs\n",
    "\n",
    "kwargs - Keyword arguments"
   ]
  },
  {
   "cell_type": "code",
   "execution_count": null,
   "metadata": {},
   "outputs": [],
   "source": [
    "def person(name, age, profession):\n",
    "    print(name,age,profession)\n",
    "\n",
    "person(\"armaan\",20,\"developer\")\n"
   ]
  },
  {
   "cell_type": "markdown",
   "metadata": {},
   "source": [
    "Let us assume we need to pass the more arguments like their city, height, weight. \n",
    "\n",
    "simply add the ( **kwargs ) in function  -> kwargs is just name you can write your own varible name, but use two asterik in beginning. \n",
    "\n",
    "These kwargs are dictionary."
   ]
  },
  {
   "cell_type": "code",
   "execution_count": null,
   "metadata": {},
   "outputs": [],
   "source": [
    "def person(name, age, profession, **kwargs):\n",
    "    print(name,age,profession)\n",
    "    print(kwargs)\n",
    "    print(type(kwargs))\n",
    "\n",
    "person(\"John_Doe\", 20, \"Developer\", city=\"New_York\",wight=80)"
   ]
  },
  {
   "cell_type": "code",
   "execution_count": null,
   "metadata": {},
   "outputs": [],
   "source": [
    "def biodata(name, age, profession, **details):\n",
    "    print(name,age,profession)\n",
    "    print(details)\n",
    "\n",
    "biodata(\"John_Doe\",20,\"Developer\",city=\"New_York\", Height=\"182cm\", weight=80, gender=\"M\")"
   ]
  },
  {
   "cell_type": "code",
   "execution_count": null,
   "metadata": {},
   "outputs": [],
   "source": [
    "def hogwarts(house1, house2, house3, house4, house5, *args, **kwargs):\n",
    "    print(\"Houses are\",house1, house2, house3, house4, house5)\n",
    "    print()\n",
    "    print(\"Args: \",args)\n",
    "    print(type(args))\n",
    "    print()\n",
    "    print(\"Kwargs: \",kwargs)\n",
    "    print(type(kwargs))\n",
    "\n",
    "hogwarts(\"Gryffindor\",\"Ravenclaw\",\"Hufflepuff\",\"Slytherin\",\"Severus Snape\", \"Horace Slughorn\", \"Remus Lupin\",headmaster=\"Albus Dumbledore\", Deputy_Headmistress=\"Minerva McGonagall\")"
   ]
  },
  {
   "cell_type": "markdown",
   "metadata": {},
   "source": [
    "# Strings\n",
    "* python strings are immutable.\n",
    "\n"
   ]
  },
  {
   "cell_type": "markdown",
   "metadata": {},
   "source": [
    "## Initialisation and Indexing"
   ]
  },
  {
   "cell_type": "code",
   "execution_count": null,
   "metadata": {},
   "outputs": [],
   "source": [
    "text = \"John Doe is good boy\"\n",
    "print(text[0])"
   ]
  },
  {
   "cell_type": "markdown",
   "metadata": {},
   "source": [
    "### To store multiple strings"
   ]
  },
  {
   "cell_type": "code",
   "execution_count": null,
   "metadata": {},
   "outputs": [],
   "source": [
    "books = ''' \n",
    "    Harry potter and chamber of secrets\n",
    "    Harry potter and the philospher's stone\n",
    "    Harry potter and the Half blood prince\n",
    "'''\n",
    "print(books)"
   ]
  },
  {
   "cell_type": "markdown",
   "metadata": {},
   "source": [
    "In this variable (s) having carrying two strings one is hello and another one is Hello_world. but both having different id numbers in the background the complier first assign <code>s = \"hello\"</code> to id number 1847064192816, then string <code>hello</code> remains there with id number first assigned by complier then when we created <code>s = Hello_world</code> it just assign variable (s) to string hello remains there with its id number\n",
    "\n",
    "That is why string hello and Hello_world have different id number but with same variable."
   ]
  },
  {
   "cell_type": "code",
   "execution_count": null,
   "metadata": {},
   "outputs": [],
   "source": [
    "s = \"hello\"\n",
    "print(id(s)) # 1847064192816\n",
    "s = \"Hello_world\"\n",
    "print(id(s)) # 1847092651120"
   ]
  },
  {
   "cell_type": "markdown",
   "metadata": {},
   "source": [
    "## Basic Operations\n",
    "1. Concatentaion: +\n",
    "2. Repetition: *\n",
    "3. Check occurence: in operator\n",
    "4. Find index of occurence: .find()\n",
    "5. Changing case: .lower(), .upper()"
   ]
  },
  {
   "cell_type": "markdown",
   "metadata": {},
   "source": [
    "### Concatention\n",
    "If we need to use integers we first need to convert that into string like str(3) or \"3\"."
   ]
  },
  {
   "cell_type": "code",
   "execution_count": null,
   "metadata": {},
   "outputs": [],
   "source": [
    "first_name = \"John \"\n",
    "last_name = \"Doe\"\n",
    "\n",
    "full_name = first_name + last_name\n",
    "print(full_name)"
   ]
  },
  {
   "cell_type": "code",
   "execution_count": null,
   "metadata": {},
   "outputs": [],
   "source": [
    "a = \"2\" + \"3\"\n",
    "print(a)\n",
    "\n",
    "b = str(2) + str(3)\n",
    "print(b)\n",
    "\n",
    "print(type(a), type(b))"
   ]
  },
  {
   "cell_type": "markdown",
   "metadata": {},
   "source": [
    "### Repetition"
   ]
  },
  {
   "cell_type": "code",
   "execution_count": null,
   "metadata": {},
   "outputs": [],
   "source": [
    "a = \"s\"\n",
    "print(a*10)"
   ]
  },
  {
   "cell_type": "markdown",
   "metadata": {},
   "source": [
    "### Check occurence : in operator"
   ]
  },
  {
   "cell_type": "markdown",
   "metadata": {},
   "source": [
    "Method_1 : using simpler way"
   ]
  },
  {
   "cell_type": "code",
   "execution_count": null,
   "metadata": {},
   "outputs": [],
   "source": [
    "text = \"John Doe is good boy\"\n",
    "if \"boy\" in text:\n",
    "    print(\"Yes\")"
   ]
  },
  {
   "cell_type": "markdown",
   "metadata": {},
   "source": [
    "Method_2 : using another variable"
   ]
  },
  {
   "cell_type": "code",
   "execution_count": null,
   "metadata": {},
   "outputs": [],
   "source": [
    "text = \"John Doe is good boy\"\n",
    "search = input()\n",
    "if search in text:\n",
    "    print(\"Yes\")\n"
   ]
  },
  {
   "cell_type": "markdown",
   "metadata": {},
   "source": [
    "Method_3 : using <code>count()</code>function.\n",
    "It will give the count of string name your are search and also how many time it has occured, prints 0 for not occured."
   ]
  },
  {
   "cell_type": "code",
   "execution_count": null,
   "metadata": {},
   "outputs": [],
   "source": [
    "text_1 = \"John Doe is good boy and also in good studies\"\n",
    "print(text_1.count(\"good\"))\n",
    "\n",
    "text_2 = \"Hello how are you ?\"\n",
    "print(text_2.count(\"good\"))"
   ]
  },
  {
   "cell_type": "markdown",
   "metadata": {},
   "source": [
    "### Find index of occurences : .find( )"
   ]
  },
  {
   "cell_type": "markdown",
   "metadata": {},
   "source": [
    "The boy of b occured at 16th index."
   ]
  },
  {
   "cell_type": "code",
   "execution_count": null,
   "metadata": {},
   "outputs": [],
   "source": [
    "text = \"John Doe is bad boy\"\n",
    "print(text.find(\"boy\"))"
   ]
  },
  {
   "cell_type": "markdown",
   "metadata": {},
   "source": [
    "By using the <code>upper()</code>function, you can uppercase all the alphabets in string"
   ]
  },
  {
   "cell_type": "code",
   "execution_count": null,
   "metadata": {},
   "outputs": [],
   "source": [
    "text = \"John Doe is bad boy\"\n",
    "print(text.upper())"
   ]
  },
  {
   "cell_type": "markdown",
   "metadata": {},
   "source": [
    "By using the <code>lower()</code>function, you can lowercase all the alphabets in string"
   ]
  },
  {
   "cell_type": "code",
   "execution_count": null,
   "metadata": {},
   "outputs": [],
   "source": [
    "text = \"JOHN DOE IS BAD BOY\"\n",
    "print(text.lower())"
   ]
  },
  {
   "cell_type": "markdown",
   "metadata": {},
   "source": [
    "By using the <code>replace()</code>funtion, you can replace the string\n",
    "\n",
    "you can also replace the alphabets"
   ]
  },
  {
   "cell_type": "code",
   "execution_count": null,
   "metadata": {},
   "outputs": [],
   "source": [
    "text = \"John Doe is a bad boy\"\n",
    "print(text.replace(\"bad\",\"good\"))"
   ]
  },
  {
   "cell_type": "code",
   "execution_count": null,
   "metadata": {},
   "outputs": [],
   "source": [
    "text = \"John Doe is a bad boy\"\n",
    "print(text.replace(\"J\",\"K\"))"
   ]
  },
  {
   "cell_type": "markdown",
   "metadata": {},
   "source": [
    "# Looping over string"
   ]
  },
  {
   "cell_type": "code",
   "execution_count": 1,
   "metadata": {},
   "outputs": [
    {
     "name": "stdout",
     "output_type": "stream",
     "text": [
      "J o h n   D o e   i s   a   g o o d   b o y "
     ]
    }
   ],
   "source": [
    "text = \"John Doe is a good boy\"\n",
    "for char in text:\n",
    "    print(char,end=\" \")"
   ]
  },
  {
   "cell_type": "markdown",
   "metadata": {},
   "source": [
    "To delete the entire string we use <code>del</code> function"
   ]
  },
  {
   "cell_type": "code",
   "execution_count": null,
   "metadata": {},
   "outputs": [],
   "source": [
    "text = \"John Doe is a good boy\"\n",
    "del text\n",
    "print(text) # This will give us an error that name 'text' is not defined."
   ]
  },
  {
   "cell_type": "markdown",
   "metadata": {},
   "source": [
    "To get the ASCII code of any alphabet we use function called <code>ord()</code>"
   ]
  },
  {
   "cell_type": "code",
   "execution_count": 2,
   "metadata": {},
   "outputs": [
    {
     "name": "stdout",
     "output_type": "stream",
     "text": [
      "97 98 99 100 101 102 103 104 105 106 107 108 109 110 111 112 113 114 115 116 117 118 119 120 121 122 "
     ]
    }
   ],
   "source": [
    "for char_code in range(ord('a'), ord('z')+1):\n",
    "    print(char_code,end=\" \")"
   ]
  },
  {
   "cell_type": "markdown",
   "metadata": {},
   "source": [
    "To get the Alphabet out of ASCII code we use <code>chr()</code>"
   ]
  },
  {
   "cell_type": "code",
   "execution_count": 3,
   "metadata": {},
   "outputs": [
    {
     "name": "stdout",
     "output_type": "stream",
     "text": [
      "a : 97\n",
      "b : 98\n",
      "c : 99\n",
      "d : 100\n",
      "e : 101\n",
      "f : 102\n",
      "g : 103\n",
      "h : 104\n",
      "i : 105\n",
      "j : 106\n",
      "k : 107\n",
      "l : 108\n",
      "m : 109\n",
      "n : 110\n",
      "o : 111\n",
      "p : 112\n",
      "q : 113\n",
      "r : 114\n",
      "s : 115\n",
      "t : 116\n",
      "u : 117\n",
      "v : 118\n",
      "w : 119\n",
      "x : 120\n",
      "y : 121\n",
      "z : 122\n"
     ]
    }
   ],
   "source": [
    "for letter in range(ord('a'), ord('z') + 1):\n",
    "    print(chr(letter), \":\",letter)\n"
   ]
  },
  {
   "cell_type": "code",
   "execution_count": 4,
   "metadata": {},
   "outputs": [
    {
     "name": "stdout",
     "output_type": "stream",
     "text": [
      "A : 65\n",
      "B : 66\n",
      "C : 67\n",
      "D : 68\n",
      "E : 69\n",
      "F : 70\n",
      "G : 71\n",
      "H : 72\n",
      "I : 73\n",
      "J : 74\n",
      "K : 75\n",
      "L : 76\n",
      "M : 77\n",
      "N : 78\n",
      "O : 79\n",
      "P : 80\n",
      "Q : 81\n",
      "R : 82\n",
      "S : 83\n",
      "T : 84\n",
      "U : 85\n",
      "V : 86\n",
      "W : 87\n",
      "X : 88\n",
      "Y : 89\n",
      "Z : 90\n"
     ]
    }
   ],
   "source": [
    "for char_code in range(ord('A'), ord('Z')+1):\n",
    "    print(chr(char_code),\":\",char_code)"
   ]
  },
  {
   "cell_type": "code",
   "execution_count": 5,
   "metadata": {},
   "outputs": [
    {
     "name": "stdout",
     "output_type": "stream",
     "text": [
      "  : 32\n",
      "! : 33\n",
      "\" : 34\n",
      "# : 35\n",
      "$ : 36\n",
      "% : 37\n",
      "& : 38\n",
      "' : 39\n",
      "( : 40\n",
      ") : 41\n",
      "* : 42\n",
      "+ : 43\n",
      ", : 44\n",
      "- : 45\n",
      ". : 46\n",
      "/ : 47\n",
      "0 : 48\n",
      "1 : 49\n",
      "2 : 50\n",
      "3 : 51\n",
      "4 : 52\n",
      "5 : 53\n",
      "6 : 54\n",
      "7 : 55\n",
      "8 : 56\n",
      "9 : 57\n",
      ": : 58\n",
      "; : 59\n",
      "< : 60\n",
      "= : 61\n",
      "> : 62\n",
      "? : 63\n"
     ]
    }
   ],
   "source": [
    "for char_code in range(ord(' '), ord('?')+1):\n",
    "    print(chr(char_code),\":\",char_code)"
   ]
  },
  {
   "cell_type": "code",
   "execution_count": null,
   "metadata": {},
   "outputs": [],
   "source": [
    "for char_code in range(ord('@'), ord('_')+1):\n",
    "    print(chr(char_code),\":\",char_code) "
   ]
  },
  {
   "cell_type": "code",
   "execution_count": null,
   "metadata": {},
   "outputs": [],
   "source": [
    "for char_code in range(ord('`'), ord('~')+1):\n",
    "    print(chr(char_code),\":\",char_code)"
   ]
  },
  {
   "cell_type": "code",
   "execution_count": null,
   "metadata": {},
   "outputs": [],
   "source": []
  },
  {
   "cell_type": "code",
   "execution_count": null,
   "metadata": {},
   "outputs": [],
   "source": []
  }
 ],
 "metadata": {
  "kernelspec": {
   "display_name": "Python 3",
   "language": "python",
   "name": "python3"
  },
  "language_info": {
   "codemirror_mode": {
    "name": "ipython",
    "version": 3
   },
   "file_extension": ".py",
   "mimetype": "text/x-python",
   "name": "python",
   "nbconvert_exporter": "python",
   "pygments_lexer": "ipython3",
   "version": "3.12.4"
  },
  "orig_nbformat": 4
 },
 "nbformat": 4,
 "nbformat_minor": 2
}
