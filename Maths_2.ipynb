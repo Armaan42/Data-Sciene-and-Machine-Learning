{
 "cells": [
  {
   "cell_type": "markdown",
   "metadata": {},
   "source": [
    "## __Combinations__\n",
    "\n",
    "The number of ways to choose r objects out of n total objects.\n",
    "\n",
    "__<sup>n</sup>C<sub>r</sub> = C ( n , r ) = n! / r!( n - r )!__"
   ]
  },
  {
   "cell_type": "markdown",
   "metadata": {},
   "source": [
    "__Question 1__: In how many ways can a teacher pick 3 studetnts out a class of 10 ?\n",
    "\n",
    "whenever we have keywords like choose, select, pick => They refers to as combinations.\n",
    "\n",
    "Total, n = 10; r = 3\n",
    "\n",
    "<sup>10</sup>C<sub>3</sub> = 10! / 3! ( 10 - 3 )! = 120"
   ]
  },
  {
   "cell_type": "markdown",
   "metadata": {},
   "source": [
    "In python, \n",
    "\n",
    "We have math module method - <code>math.comb(n, r)</code>"
   ]
  },
  {
   "cell_type": "code",
   "execution_count": 2,
   "metadata": {},
   "outputs": [
    {
     "data": {
      "text/plain": [
       "120"
      ]
     },
     "execution_count": 2,
     "metadata": {},
     "output_type": "execute_result"
    }
   ],
   "source": [
    "import math\n",
    "math.comb(10, 3)"
   ]
  },
  {
   "cell_type": "code",
   "execution_count": 5,
   "metadata": {},
   "outputs": [
    {
     "data": {
      "text/plain": [
       "120.0"
      ]
     },
     "execution_count": 5,
     "metadata": {},
     "output_type": "execute_result"
    }
   ],
   "source": [
    "def combinations(n, r):\n",
    "    num = math.factorial(n)\n",
    "    den = math.factorial(r) * math.factorial(n-r)\n",
    "    return num / den\n",
    "\n",
    "n = int(input(\"Enter the n: \"))\n",
    "r = int(input(\"Enter the r: \"))\n",
    "\n",
    "combinations(n, r)"
   ]
  },
  {
   "cell_type": "markdown",
   "metadata": {},
   "source": [
    "## __Arrangements(Permutation)__\n",
    "\n",
    "__Question 1__: Team = 11 players, How many ways can you arrange n players in a team ?\n",
    "\n",
    "A, B, F.......\n",
    "\n",
    "B, D, E.......\n",
    "\n",
    ".....\n",
    "\n",
    "If you have n objects, the number of ways you can arrange them is n!\n",
    "\n",
    "11 players = 11!"
   ]
  },
  {
   "cell_type": "markdown",
   "metadata": {},
   "source": [
    "## Permuatations\n",
    "\n",
    "math module method = <code>math.perm(n ,r)</code>\n",
    "\n",
    "permutations = choose + arrange\n",
    "\n",
    "20 players = pick 11 player and then arrange\n",
    "\n",
    "<sup>20</sup>C<sub>11</sub> X 11! = <sup>n</sup>C<sub>r</sub> X r!\n",
    "\n",
    "(20! / 11! * 9! ) * 11! = 20!/9!\n",
    "\n",
    "Formula came out to be:\n",
    "\n",
    "__<sup>n</sup>P<sub>r</sub> = n! / ( n - r)!__"
   ]
  },
  {
   "cell_type": "code",
   "execution_count": 6,
   "metadata": {},
   "outputs": [
    {
     "data": {
      "text/plain": [
       "39916800"
      ]
     },
     "execution_count": 6,
     "metadata": {},
     "output_type": "execute_result"
    }
   ],
   "source": [
    "math.factorial(11)"
   ]
  },
  {
   "cell_type": "code",
   "execution_count": 8,
   "metadata": {},
   "outputs": [
    {
     "data": {
      "text/plain": [
       "6704425728000"
      ]
     },
     "execution_count": 8,
     "metadata": {},
     "output_type": "execute_result"
    }
   ],
   "source": [
    "import math\n",
    "math.comb(20, 11) * math.factorial(11)"
   ]
  },
  {
   "cell_type": "code",
   "execution_count": 10,
   "metadata": {},
   "outputs": [
    {
     "data": {
      "text/plain": [
       "6704425728000"
      ]
     },
     "execution_count": 10,
     "metadata": {},
     "output_type": "execute_result"
    }
   ],
   "source": [
    "#OR\n",
    "math.perm(20, 11)"
   ]
  },
  {
   "cell_type": "markdown",
   "metadata": {},
   "source": [
    "__Question__: Generating passwords of 5 Digits from 0-9 ? what are the possible combinations ( No repetition ) ?\n",
    "\n",
    "Pick 5 digits out of 10 and arrange them ? \n",
    "\n",
    "<sup>10</sup>P<sub>5</sub>"
   ]
  },
  {
   "cell_type": "code",
   "execution_count": 12,
   "metadata": {},
   "outputs": [
    {
     "data": {
      "text/plain": [
       "5040"
      ]
     },
     "execution_count": 12,
     "metadata": {},
     "output_type": "execute_result"
    }
   ],
   "source": [
    "math.perm(10, 4)"
   ]
  },
  {
   "cell_type": "code",
   "execution_count": 13,
   "metadata": {},
   "outputs": [
    {
     "data": {
      "text/plain": [
       "5040.0"
      ]
     },
     "execution_count": 13,
     "metadata": {},
     "output_type": "execute_result"
    }
   ],
   "source": [
    "def permuatation(n, r):\n",
    "    return math.factorial(n) / math.factorial(n-r)\n",
    "\n",
    "permuatation(10, 4)"
   ]
  },
  {
   "cell_type": "markdown",
   "metadata": {},
   "source": [
    "## Summary of formulas : \n",
    "\n",
    "1. Permutations without Repetition : P( n , r ) = n! / ( n - r )!\n",
    "2. Permutations with Repetition : P( n , r ) = n<sup>r</sup>\n",
    "3. Combinations without Repetitions : C( n , r ) = n! / r! ( n - r )!\n",
    "4. Combinations with Repetitions: C( n + r - 1 , r ) = ( n + r - 1)! / r! ( n - 1 )!"
   ]
  }
 ],
 "metadata": {
  "kernelspec": {
   "display_name": "Python 3",
   "language": "python",
   "name": "python3"
  },
  "language_info": {
   "codemirror_mode": {
    "name": "ipython",
    "version": 3
   },
   "file_extension": ".py",
   "mimetype": "text/x-python",
   "name": "python",
   "nbconvert_exporter": "python",
   "pygments_lexer": "ipython3",
   "version": "3.12.4"
  }
 },
 "nbformat": 4,
 "nbformat_minor": 2
}
