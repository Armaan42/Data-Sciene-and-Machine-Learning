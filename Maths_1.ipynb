{
 "cells": [
  {
   "cell_type": "markdown",
   "metadata": {},
   "source": [
    "# Maths\n",
    "\n",
    "### Logrithms\n",
    "The exponent or power to which a base must be raised to yeild a given number. Expressed mathematically, x is the logrithm of n to the base b if bx = n, in which case on writes x = logb n.\n",
    "\n",
    "For example, 23 = 8; therefore, 3 is the logarithm of 8 to base 2, or 3 = log<sub>2</sub> 8.\n",
    "\n",
    "For example, 4<sup>2</sup> = 16 which means log<sub>4</sub>16 = 2"
   ]
  },
  {
   "cell_type": "code",
   "execution_count": 1,
   "metadata": {},
   "outputs": [
    {
     "name": "stdout",
     "output_type": "stream",
     "text": [
      "Natural logarithm of 14 is 2.6390573296152584\n",
      "Logarithm of 14 base 5  1.6397385131955606"
     ]
    }
   ],
   "source": [
    "import math\n",
    "\n",
    "print(\"Natural logarithm of 14 is\" , math.log(14) , end=\"\") #when base is not defined, it is called natural logarithm\n",
    "print(\"\")\n",
    "print(\"Logarithm of 14 base 5 \", math.log(14,5), end=\"\") # when base is provided"
   ]
  },
  {
   "cell_type": "code",
   "execution_count": 2,
   "metadata": {},
   "outputs": [
    {
     "name": "stdout",
     "output_type": "stream",
     "text": [
      "100\n",
      "50.0\n",
      "25.0\n",
      "12.5\n",
      "6.25\n",
      "3.125\n",
      "1.5625\n"
     ]
    }
   ],
   "source": [
    "n = 100\n",
    "\n",
    "while(n > 1):\n",
    "    print(n)\n",
    "    n = n / 2"
   ]
  },
  {
   "cell_type": "markdown",
   "metadata": {},
   "source": [
    "How many iterations would the above code snippet take ?\n",
    "\n",
    "if n = 100 it took 7<br>\n",
    "if n = 200 it took 8\n",
    "\n",
    "n = 2<sup>x</sup> <br>\n",
    "2<sup>x</sup> = n <br>\n",
    "x = log<sub>2</sub>x (approx)"
   ]
  },
  {
   "cell_type": "markdown",
   "metadata": {},
   "source": [
    "## GCD\n",
    "\n",
    "math module method - <code>math.gcd(*integers)</code>"
   ]
  },
  {
   "cell_type": "code",
   "execution_count": 3,
   "metadata": {},
   "outputs": [
    {
     "data": {
      "text/plain": [
       "1"
      ]
     },
     "execution_count": 3,
     "metadata": {},
     "output_type": "execute_result"
    }
   ],
   "source": [
    "math.gcd(2,3)"
   ]
  },
  {
   "cell_type": "code",
   "execution_count": 4,
   "metadata": {},
   "outputs": [
    {
     "data": {
      "text/plain": [
       "4"
      ]
     },
     "execution_count": 4,
     "metadata": {},
     "output_type": "execute_result"
    }
   ],
   "source": [
    "math.gcd(100,244)"
   ]
  },
  {
   "cell_type": "markdown",
   "metadata": {},
   "source": [
    "## Euclidean Algorithm\n",
    "\n",
    "The Euclidean algorithm is a way to find the greatest common divisor of two positive integers. GCD of two numbers is the largest number that divides both of them. A simple way to find GCD is to factorize both numbers and multiply common prime factors.\n",
    "\n",
    "36 = 2 x 2 x 3 x 3 <br>\n",
    "60 = 2 x 2 x 3 x 5\n",
    "\n",
    "<pre>\n",
    "GCD = Multiplication of common factors \n",
    "    = 2 x 2 x 3\n",
    "    = 12\n",
    "</pre>"
   ]
  },
  {
   "cell_type": "code",
   "execution_count": 5,
   "metadata": {},
   "outputs": [
    {
     "data": {
      "text/plain": [
       "1"
      ]
     },
     "execution_count": 5,
     "metadata": {},
     "output_type": "execute_result"
    }
   ],
   "source": [
    "def gcd(a, b):\n",
    "    if a == 0:\n",
    "        return b\n",
    "    \n",
    "    return gcd(b % a, a)\n",
    "\n",
    "a = int(input(\"Enter the first number: \"))\n",
    "b = int(input(\"Enter the first number: \"))\n",
    "gcd(a, b)"
   ]
  },
  {
   "cell_type": "markdown",
   "metadata": {},
   "source": [
    "## LCM\n",
    "\n",
    "__Method - 1__\n",
    "\n",
    "compute using the formula:\n",
    "\n",
    "<code>\n",
    "gcd(a, b) * lcm(a, b) = a * b <br>\n",
    "lcm(a, b) = (a * b)/ gcd(a, b)\n",
    "</code>\n",
    "\n",
    "__Method - 2__\n",
    "\n",
    "Inbuild formula: <code>math.lcm(*integers)</code>"
   ]
  },
  {
   "cell_type": "code",
   "execution_count": 6,
   "metadata": {},
   "outputs": [
    {
     "data": {
      "text/plain": [
       "12.0"
      ]
     },
     "execution_count": 6,
     "metadata": {},
     "output_type": "execute_result"
    }
   ],
   "source": [
    "def gcd(a, b):\n",
    "    if a == 0:\n",
    "        return b\n",
    "    \n",
    "    return gcd(b % a, a)\n",
    "\n",
    "def lcm(a ,b):\n",
    "    return (a * b)/ gcd(a, b)\n",
    "\n",
    "a = int(input(\"Enter the first number: \"))\n",
    "b = int(input(\"Enter the second number: \"))\n",
    "lcm(a, b)"
   ]
  },
  {
   "cell_type": "code",
   "execution_count": 7,
   "metadata": {},
   "outputs": [
    {
     "data": {
      "text/plain": [
       "120"
      ]
     },
     "execution_count": 7,
     "metadata": {},
     "output_type": "execute_result"
    }
   ],
   "source": [
    "math.lcm(10,30,40)"
   ]
  },
  {
   "cell_type": "markdown",
   "metadata": {},
   "source": [
    "## Prime Number - sqrt(N) method\n",
    "\n",
    "Given a number N, check if it is prime or not"
   ]
  },
  {
   "cell_type": "code",
   "execution_count": 8,
   "metadata": {},
   "outputs": [
    {
     "data": {
      "text/plain": [
       "True"
      ]
     },
     "execution_count": 8,
     "metadata": {},
     "output_type": "execute_result"
    }
   ],
   "source": [
    "def isPrime(n):\n",
    "    ''' \n",
    "    This function return true or false based on primality check of n.\n",
    "    '''\n",
    "# search for factors in the range[2, sqrt(n)]\n",
    "# sq = n ** (1/2)\n",
    "    sq = int(math.sqrt(n))\n",
    "\n",
    "    for i in range(2, sq + 1):\n",
    "        if n % i == 0:\n",
    "            return False\n",
    "        \n",
    "    return True\n",
    "\n",
    "n = int(input(\"Enter the number: \"))\n",
    "isPrime(n)"
   ]
  },
  {
   "cell_type": "markdown",
   "metadata": {},
   "source": [
    "## Arithematic Progression\n",
    "\n",
    "T(n) = a + ( n - 1 ) * d"
   ]
  },
  {
   "cell_type": "code",
   "execution_count": 12,
   "metadata": {},
   "outputs": [
    {
     "name": "stdout",
     "output_type": "stream",
     "text": [
      "2\n",
      "5\n",
      "8\n",
      "11\n",
      "14\n"
     ]
    }
   ],
   "source": [
    "n = int(input(\"Enter the number of terms: \"))\n",
    "a = int(input(\"Enter the first term: \"))\n",
    "d = int(input(\"Enter the common difference: \"))\n",
    "\n",
    "for i in range(n):\n",
    "    term = a + i * d\n",
    "    print(term)\n"
   ]
  },
  {
   "cell_type": "markdown",
   "metadata": {},
   "source": [
    "### Sum of AP\n",
    "\n",
    "S<sub>n</sub> = n/2 * ( 2a + ( n - 1) * d)\n"
   ]
  },
  {
   "cell_type": "code",
   "execution_count": 10,
   "metadata": {},
   "outputs": [
    {
     "name": "stdout",
     "output_type": "stream",
     "text": [
      "4\n",
      "6\n",
      "8\n",
      "Sum of the first 3 terms is: 18\n",
      "Sum using formula is: 18.0\n"
     ]
    }
   ],
   "source": [
    "n = int(input(\"Enter the number of terms: \"))\n",
    "a = int(input(\"Enter the first term: \"))\n",
    "d = int(input(\"Enter the common difference: \"))\n",
    "\n",
    "sum_terms = 0\n",
    "\n",
    "for i in range(n):\n",
    "    term = a + i * d\n",
    "    print(term)\n",
    "    sum_terms += term\n",
    "\n",
    "sum_formula = (n / 2) * (2 * a + (n - 1) * d)\n",
    "\n",
    "print(\"Sum of the first\", n, \"terms is:\", sum_terms)\n",
    "print(\"Sum using formula is:\", sum_formula)"
   ]
  },
  {
   "cell_type": "markdown",
   "metadata": {},
   "source": [
    "## GP - Geometric Progression\n",
    "\n",
    "a<sub>n</sub> = a<sub>1</sub> * r<sup>n-1</sup>\n",
    "\n",
    "For sum\n",
    "\n",
    "S(n) = a * ((pow(r, n) - 1)/ (r - 1))  if r != 1\n",
    "\n",
    "S(n) = a * n                           if r == 1"
   ]
  },
  {
   "cell_type": "code",
   "execution_count": 11,
   "metadata": {},
   "outputs": [
    {
     "name": "stdout",
     "output_type": "stream",
     "text": [
      "Term 1: 2.0\n",
      "Term 2: 8.0\n",
      "Term 3: 32.0\n",
      "Term 4: 128.0\n",
      "Sum of the first 4 terms is (calculated iteratively): 170.0\n",
      "Sum of the first 4 terms is (using formula): 170.0\n"
     ]
    }
   ],
   "source": [
    "def print_gp_and_sum(n, a, r):\n",
    "    '''\n",
    "    Print the first n terms of a geometric progression (GP) and compute their sum.\n",
    "    \n",
    "    Parameters:\n",
    "    n (int): The number of terms\n",
    "    a (float): The first term of the GP\n",
    "    r (float): The common ratio of the GP\n",
    "    '''\n",
    "    \n",
    "    # Initialize the sum of terms\n",
    "    sum_terms = 0\n",
    "    \n",
    "    # Calculate and print each term of the GP\n",
    "    for i in range(n):\n",
    "        term = a * (r ** i)\n",
    "        print(f\"Term {i + 1}: {term}\")\n",
    "        sum_terms += term\n",
    "    \n",
    "    # Calculate the sum using the formula\n",
    "    if r != 1:\n",
    "        sum_formula = a * (r ** n - 1) / (r - 1)\n",
    "    else:\n",
    "        # If r == 1, the sum is simply n * a\n",
    "        sum_formula = n * a\n",
    "    \n",
    "    print(f\"Sum of the first {n} terms is (calculated iteratively): {sum_terms}\")\n",
    "    print(f\"Sum of the first {n} terms is (using formula): {sum_formula}\")\n",
    "\n",
    "# Example usage\n",
    "n = int(input(\"Enter the number of terms: \"))\n",
    "a = float(input(\"Enter the first term: \"))\n",
    "r = float(input(\"Enter the common ratio: \"))\n",
    "\n",
    "print_gp_and_sum(n, a, r)\n"
   ]
  }
 ],
 "metadata": {
  "kernelspec": {
   "display_name": "Python 3",
   "language": "python",
   "name": "python3"
  },
  "language_info": {
   "codemirror_mode": {
    "name": "ipython",
    "version": 3
   },
   "file_extension": ".py",
   "mimetype": "text/x-python",
   "name": "python",
   "nbconvert_exporter": "python",
   "pygments_lexer": "ipython3",
   "version": "3.12.4"
  }
 },
 "nbformat": 4,
 "nbformat_minor": 2
}
