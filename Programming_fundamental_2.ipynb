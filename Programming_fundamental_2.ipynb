{
 "cells": [
  {
   "cell_type": "markdown",
   "metadata": {},
   "source": [
    "# Programming Fundamental - 2"
   ]
  },
  {
   "cell_type": "markdown",
   "metadata": {},
   "source": [
    "### Print statment ( args, end, sep )"
   ]
  },
  {
   "cell_type": "code",
   "execution_count": null,
   "metadata": {},
   "outputs": [],
   "source": [
    "print(\"Hello World\")"
   ]
  },
  {
   "cell_type": "markdown",
   "metadata": {},
   "source": [
    "Seperator (sep) will fill the space with ever you have given in sep, but only in-between two.\n",
    "\n",
    "By default, the value of (sep) is single space sep=' '"
   ]
  },
  {
   "cell_type": "code",
   "execution_count": null,
   "metadata": {},
   "outputs": [],
   "source": [
    "print(\"Hello\", \"World\", \"i\", \"am\", \"Good\", sep='=')"
   ]
  },
  {
   "cell_type": "markdown",
   "metadata": {},
   "source": [
    "End (end) will fill the end of the output with what you have given.\n",
    "\n",
    "By defualt, the value of (end) is new line character i.e., (\\n)."
   ]
  },
  {
   "cell_type": "code",
   "execution_count": null,
   "metadata": {},
   "outputs": [],
   "source": [
    "print(\"hello\", end='!')"
   ]
  },
  {
   "cell_type": "markdown",
   "metadata": {},
   "source": [
    "### Multiple Strings, Comments"
   ]
  },
  {
   "cell_type": "code",
   "execution_count": null,
   "metadata": {},
   "outputs": [],
   "source": [
    "s = ''' Lorem ipsum, dolor sit amet consectetur adipisicing elit. Ullam obcaecati pariatur ipsam aspernatur quaerat, facilisvero commodi inventore animi deleniti exercitationem. Dicta excepturi, illum modi voluptate delectus quod fugit dignissimos assumenda voluptatum omnis? Molestiae laboriosam assumenda reprehenderit vel ducimus, saepe veritatis adipisci qui esse cumque tempore non. Possimus odio rem tenetur, assumenda cum aliquam? Delectus deleniti aut dolore veritatis nostrum quibusdam modi ratione, assumenda dolores beatae dicta, a ducimus, deserunt aspernatur rem. Non aperiam repellendus accusantium omnis fugit id expedita dolorem officiis molestiae vitae voluptas laboriosam maiores quia, quis veritatis tenetur tempora. Optio dicta modi voluptatum dignissimos aliquam magnam libero et. Ullam eaque quia beatae. Voluptates deserunt beatae, ex obcaecati quod quam dolorum praesentium eius temporibus minus consequuntur, adipisci, distinctio corporis similique asperiores. Odio quos beatae nemo consectetur cupidita\n",
    "\n",
    "te suscipit, vel veritatis expedita qui! Voluptatibus architecto illo, voluptate velit veniam fugiat dolor iure ratione libero ullam sapiente exercitationem rerum a consectetur facilis eius consequuntur alias atque, enim animi saepe adipisci ut. Corporis repellendus illo magni tenetur quae pariatur ab consequuntur. Debitis voluptatibus consequatur, ipsam at earum atque voluptas et aspernatur impedit nesciunt aliquam? Sed hic, saepe quasi consectetur voluptates vero animi provident voluptas molestiae, vitae rerum non ipsa ad neque.\n",
    "'''"
   ]
  },
  {
   "cell_type": "code",
   "execution_count": null,
   "metadata": {},
   "outputs": [],
   "source": [
    "print(s)"
   ]
  },
  {
   "cell_type": "markdown",
   "metadata": {},
   "source": [
    "## Multi-line Comment"
   ]
  },
  {
   "cell_type": "code",
   "execution_count": null,
   "metadata": {},
   "outputs": [],
   "source": [
    "'''\n",
    "This is an example of multi-line comment\n",
    "'''"
   ]
  },
  {
   "cell_type": "markdown",
   "metadata": {},
   "source": [
    "# Branching\n",
    "<li>if</li>\n",
    "<li>else</li>\n",
    "<li>elif</li>\n",
    "\n"
   ]
  },
  {
   "cell_type": "markdown",
   "metadata": {},
   "source": [
    "## if\n"
   ]
  },
  {
   "cell_type": "code",
   "execution_count": null,
   "metadata": {},
   "outputs": [],
   "source": [
    "print(\"Write 'python' \")\n",
    "a = input(\"Enter the statement : \")\n",
    "if(a == \"python\"):\n",
    "    print(\"correct\")"
   ]
  },
  {
   "cell_type": "markdown",
   "metadata": {},
   "source": [
    "## if...else"
   ]
  },
  {
   "cell_type": "code",
   "execution_count": null,
   "metadata": {},
   "outputs": [],
   "source": [
    "age = int(input(\"Enter the age : \"))\n",
    "if(age >= 18):\n",
    "    print(\"Eligible to vote\")\n",
    "else:\n",
    "    print(\"Try next time\")"
   ]
  },
  {
   "cell_type": "markdown",
   "metadata": {},
   "source": [
    "## if..elif..else"
   ]
  },
  {
   "cell_type": "code",
   "execution_count": null,
   "metadata": {},
   "outputs": [],
   "source": [
    "print(\"enter the week number\")\n",
    "week_day = int(input(\"Enter the number : \"))\n",
    "\n",
    "if(week_day == 1):\n",
    "    print(\"Sunday\")\n",
    "elif(week_day == 2):\n",
    "    print(\"Monday\")\n",
    "elif(week_day == 3):\n",
    "    print(\"Tuesday\")\n",
    "elif(week_day == 4):\n",
    "    print(\"Wednesday\")\n",
    "elif(week_day == 5):\n",
    "    print(\"Thrusday\")\n",
    "elif(week_day == 6):\n",
    "    print(\"Friday\")\n",
    "elif(week_day == 7):\n",
    "    print(\"Saturday\")\n",
    "else:\n",
    "    print(\"Wrong Input\")"
   ]
  },
  {
   "cell_type": "markdown",
   "metadata": {},
   "source": [
    "## and "
   ]
  },
  {
   "cell_type": "code",
   "execution_count": null,
   "metadata": {},
   "outputs": [],
   "source": [
    "batch = \"java\"\n",
    "org = \"self\"\n",
    "\n",
    "if(org == \"self\" and batch == \"java\"):\n",
    "    print(\"Allow\")\n",
    "else:\n",
    "    print(\"block\")"
   ]
  },
  {
   "cell_type": "markdown",
   "metadata": {},
   "source": [
    "## or"
   ]
  },
  {
   "cell_type": "code",
   "execution_count": null,
   "metadata": {},
   "outputs": [],
   "source": [
    "batch = \"python\"\n",
    "org = \"self\"\n",
    "\n",
    "if(org == \"self\" or batch == \"java\"):\n",
    "    print(\"Allow\")\n",
    "else:\n",
    "    print(\"block\")"
   ]
  },
  {
   "cell_type": "markdown",
   "metadata": {},
   "source": [
    "# Loops"
   ]
  },
  {
   "cell_type": "markdown",
   "metadata": {},
   "source": [
    "### While"
   ]
  },
  {
   "cell_type": "code",
   "execution_count": null,
   "metadata": {},
   "outputs": [],
   "source": [
    "# print the couting from 1 to 10\n",
    "\n",
    "i = 1\n",
    "while(i <= 10):\n",
    "    print(i, end=' ')\n",
    "    i = i + 1"
   ]
  },
  {
   "cell_type": "markdown",
   "metadata": {},
   "source": [
    "print the stair case pattern"
   ]
  },
  {
   "cell_type": "code",
   "execution_count": null,
   "metadata": {},
   "outputs": [],
   "source": [
    "i = 1\n",
    "\n",
    "while( i <= 5):\n",
    "    print(\"*\" * i)\n",
    "    i += 1\n"
   ]
  },
  {
   "cell_type": "markdown",
   "metadata": {},
   "source": [
    "## Range Method"
   ]
  },
  {
   "cell_type": "code",
   "execution_count": null,
   "metadata": {},
   "outputs": [],
   "source": [
    "# example_1\n",
    "\n",
    "list(range(5)) # start = 0(Default); end = 5(what is given); increment = 1(Default) \n",
    "         # you can change the default statment of you choice\n",
    "         # range will not include the end, it will include the one less then end"
   ]
  },
  {
   "cell_type": "code",
   "execution_count": null,
   "metadata": {},
   "outputs": [],
   "source": [
    "# example_2\n",
    "\n",
    "list(range(2,11,3)) # starting from 2 to 11 (11-1) and increment of 3"
   ]
  },
  {
   "cell_type": "markdown",
   "metadata": {},
   "source": [
    "# For loop"
   ]
  },
  {
   "cell_type": "markdown",
   "metadata": {},
   "source": [
    "It allows us to loop/iterate over a range"
   ]
  },
  {
   "cell_type": "code",
   "execution_count": null,
   "metadata": {},
   "outputs": [],
   "source": [
    "# print the odd number from 1 to 10\n",
    "\n",
    "for i in range(1,10,2):\n",
    "    print(i)"
   ]
  },
  {
   "cell_type": "markdown",
   "metadata": {},
   "source": [
    "print the cube of all numbers from 10 to 1 (Reverse) -> [9,7,5,3,1]"
   ]
  },
  {
   "cell_type": "code",
   "execution_count": null,
   "metadata": {},
   "outputs": [],
   "source": [
    "for i in range(9,0,-2):\n",
    "    print(i**3, end=' ')"
   ]
  },
  {
   "cell_type": "code",
   "execution_count": null,
   "metadata": {},
   "outputs": [],
   "source": [
    "for i in \"hello\":\n",
    "    print(i)"
   ]
  },
  {
   "cell_type": "markdown",
   "metadata": {},
   "source": [
    "## sum of digits"
   ]
  },
  {
   "cell_type": "code",
   "execution_count": null,
   "metadata": {},
   "outputs": [],
   "source": [
    "number = int(input(\"Enter the number : \"))\n",
    "sum = 0\n",
    "while(number > 0):\n",
    "    rem = number%10\n",
    "    sum = sum + rem\n",
    "    number = number//10\n",
    "print(sum)"
   ]
  },
  {
   "cell_type": "markdown",
   "metadata": {},
   "source": [
    "Number pattern\n",
    "\n",
    "1234\n",
    "\n",
    "123\n",
    "\n",
    "12\n",
    "\n",
    "1"
   ]
  },
  {
   "cell_type": "code",
   "execution_count": null,
   "metadata": {},
   "outputs": [],
   "source": [
    "for i in range(4,0,-1):\n",
    "    print('\\n')\n",
    "    for j in range(1, i+1):\n",
    "        print(j,end='')"
   ]
  },
  {
   "cell_type": "markdown",
   "metadata": {},
   "source": [
    "<h3>printing the pattern</h3>\n",
    "\n",
    "<pre>\n",
    "      1\n",
    "\n",
    "    2 3 2 \n",
    "\n",
    "  3 4 5 4 3\n",
    "\n",
    "4 5 6 7 6 5 4 \n",
    "</pre>"
   ]
  },
  {
   "cell_type": "markdown",
   "metadata": {},
   "source": [
    "<p>\n",
    "For free spaces the relation comes out to be \n",
    "\n",
    "space = n - i\n",
    "</p>\n",
    "From left side, Increasing sequence:  \n",
    "<pre>\n",
    "    start -> i \n",
    "    end -> 2*i - 1\n",
    "</pre>\n",
    "\n",
    "From Right side, Decreasing sequence:\n",
    "<pre>\n",
    "    start -> 2*i - 2\n",
    "    end -> i\n",
    "</pre>"
   ]
  },
  {
   "cell_type": "code",
   "execution_count": null,
   "metadata": {},
   "outputs": [],
   "source": [
    "n=4\n",
    "for i in range(1, n+1):\n",
    "    print(\"0\"*(n-i))\n",
    "    for j in range(i, 2*i):\n",
    "            print(j)   \n",
    "\n",
    "    for j in range(2*i-2,i,-1):\n",
    "        print(j)\n",
    "    print(\"0\"*(n-i))"
   ]
  },
  {
   "cell_type": "code",
   "execution_count": null,
   "metadata": {},
   "outputs": [],
   "source": []
  },
  {
   "cell_type": "code",
   "execution_count": null,
   "metadata": {},
   "outputs": [],
   "source": []
  },
  {
   "cell_type": "code",
   "execution_count": null,
   "metadata": {},
   "outputs": [],
   "source": []
  }
 ],
 "metadata": {
  "kernelspec": {
   "display_name": "Python 3",
   "language": "python",
   "name": "python3"
  },
  "language_info": {
   "codemirror_mode": {
    "name": "ipython",
    "version": 3
   },
   "file_extension": ".py",
   "mimetype": "text/x-python",
   "name": "python",
   "nbconvert_exporter": "python",
   "pygments_lexer": "ipython3",
   "version": "3.12.4"
  },
  "orig_nbformat": 4
 },
 "nbformat": 4,
 "nbformat_minor": 2
}
