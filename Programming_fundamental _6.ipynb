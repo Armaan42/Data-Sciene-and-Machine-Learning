{
 "cells": [
  {
   "cell_type": "markdown",
   "metadata": {},
   "source": [
    "<h1>Sets and Dictionaries</h1>"
   ]
  },
  {
   "cell_type": "markdown",
   "metadata": {},
   "source": [
    "<h1><b>Sets</b></h1>"
   ]
  },
  {
   "cell_type": "markdown",
   "metadata": {},
   "source": [
    "<ul type=\"square\">\n",
    "    <li>set is an unordered collection of items, where every element is unique and immutable. however, the set itself is mutable.</li>\n",
    "    <li>There are two ways of creating a set \n",
    "        <ul type =\"square\">\n",
    "            <li>Putting all the elements inside curly braces</li>\n",
    "            <li>Using set( ) method</li>\n",
    "        </ul>\n",
    "    </li>\n",
    "    <li>Adding elements to set - add( ), update( ) </li>\n",
    "    <li>Removing elements from set </li>\n",
    "    <li>Duplicate elements are not stored.</li>\n",
    "    <li>Python sets allow fast insertion, deletion and searching</li>\n",
    "    <li>Technique used by set is called Hashing</li>\n",
    "</ul>"
   ]
  },
  {
   "cell_type": "code",
   "execution_count": null,
   "metadata": {},
   "outputs": [],
   "source": [
    "s = {1,2,0,4,5,\"hello\",\"world\",6,20,45,-4,-6}\n",
    "print(s)"
   ]
  },
  {
   "cell_type": "markdown",
   "metadata": {},
   "source": [
    "### Updation using update( ) -> It takes as many argument"
   ]
  },
  {
   "cell_type": "code",
   "execution_count": null,
   "metadata": {},
   "outputs": [],
   "source": [
    "s.update([11,22,33])\n",
    "print(s)"
   ]
  },
  {
   "cell_type": "markdown",
   "metadata": {},
   "source": [
    "### Updation using add( ) -> It takes only one arguments at a time"
   ]
  },
  {
   "cell_type": "code",
   "execution_count": null,
   "metadata": {},
   "outputs": [],
   "source": [
    "s.add(50)\n",
    "print(s)"
   ]
  },
  {
   "cell_type": "markdown",
   "metadata": {},
   "source": [
    "### Deletion of elements \n",
    "\n",
    "using remove( ) -> It takes only one arguments at a time\n",
    "\n",
    "using discard( ) -> It also takes only one arguments at a time.\n",
    "\n",
    "<p>\n",
    "If you use remove function on the element which is not present in the set, it will throw an error, but if you use discard instead it would'nt throw any error.\n",
    "</p>"
   ]
  },
  {
   "cell_type": "code",
   "execution_count": null,
   "metadata": {},
   "outputs": [],
   "source": [
    "s.remove(22)\n",
    "print(s)"
   ]
  },
  {
   "cell_type": "code",
   "execution_count": null,
   "metadata": {},
   "outputs": [],
   "source": [
    "s.discard(0)\n",
    "print(s)"
   ]
  },
  {
   "cell_type": "markdown",
   "metadata": {},
   "source": [
    "### converting list into a set\n",
    "\n",
    "just use set( ) function."
   ]
  },
  {
   "cell_type": "code",
   "execution_count": 1,
   "metadata": {},
   "outputs": [
    {
     "name": "stdout",
     "output_type": "stream",
     "text": [
      "{1, 2, 3, 4, 5}\n",
      "<class 'set'>\n"
     ]
    }
   ],
   "source": [
    "a = set([1,2,3,4,5])\n",
    "print(a)\n",
    "print(type(a))"
   ]
  },
  {
   "cell_type": "markdown",
   "metadata": {},
   "source": [
    "### Making a list of unique tv shows compiling from all your friends favourite tv shows"
   ]
  },
  {
   "cell_type": "code",
   "execution_count": 2,
   "metadata": {},
   "outputs": [
    {
     "name": "stdout",
     "output_type": "stream",
     "text": [
      "{'How I met your mother', 'Dardevil', 'Wastworld', 'Game of Thrones', 'The Wire', 'The Office', 'Breaking Bad', 'Soprans', 'Friends', 'Sherlock'}\n"
     ]
    }
   ],
   "source": [
    "Friend_1 = ['How I met your mother', 'Breaking Bad', 'The Wire']\n",
    "Friend_2 = ['Breaking Bad', 'Wastworld', 'The Office']\n",
    "Friend_3 = ['Soprans', 'Game of Thrones', 'Sherlock']\n",
    "Friend_4 = ['Friends', 'Sherlock', 'Dardevil']\n",
    "\n",
    "s = set()\n",
    "s.update(Friend_1, Friend_2, Friend_3, Friend_4)\n",
    "print(s)"
   ]
  },
  {
   "cell_type": "markdown",
   "metadata": {},
   "source": [
    "### A fifth friend comes along and produces his tv show list. He wants to check which of the shows you have in common with his list."
   ]
  },
  {
   "cell_type": "code",
   "execution_count": 3,
   "metadata": {},
   "outputs": [
    {
     "name": "stdout",
     "output_type": "stream",
     "text": [
      "The Office\n"
     ]
    }
   ],
   "source": [
    "Friend_5 = ['The Office', 'Doctor who', 'Peaky Blinders']\n",
    "\n",
    "for i in Friend_5:\n",
    "    if i in s:\n",
    "        print(i) \n",
    "\n",
    "# The only common tv show is 'The Office' "
   ]
  },
  {
   "cell_type": "markdown",
   "metadata": {},
   "source": [
    "<h1><b>Dictionaries</b></h1>\n",
    "\n"
   ]
  },
  {
   "cell_type": "markdown",
   "metadata": {},
   "source": [
    "### Explanation:\n",
    "\n",
    "* They are used to store data in a key-value format.\n",
    "* They keys are always unique within a dictionary.\n",
    "* The values of the Python dictionary may or may not be unique. ( can be duplicate )\n",
    "* The values within a dictionary can be any data type but the thing to note is that the keys are immutable. Hence, the key\n",
    "can only be strings, numbers or tuples.\n",
    "* <code>None</code> as a key is allowed.\n",
    "* Dictionaries can be created using the <code>dict()</code> constructor or with curly brackets - { }\n",
    "* Dictionaries also use <code>Hashing</code> to store the data."
   ]
  },
  {
   "cell_type": "code",
   "execution_count": null,
   "metadata": {},
   "outputs": [],
   "source": [
    "currency = {\n",
    "    'India' : 'Rupee',\n",
    "    'USA' : 'Dollar',\n",
    "    'Japan' : 'Yen',\n",
    "    'Dubai' : 'Dinar'\n",
    "}\n",
    "\n",
    "print(currency)\n",
    "print(type(currency))\n"
   ]
  },
  {
   "cell_type": "code",
   "execution_count": null,
   "metadata": {},
   "outputs": [],
   "source": [
    "# To get the values using the keys\n",
    "print(currency['India']) \n",
    "print(currency['USA'])"
   ]
  },
  {
   "cell_type": "markdown",
   "metadata": {},
   "source": [
    "<h4>To update the Dictionaries</h4>"
   ]
  },
  {
   "cell_type": "code",
   "execution_count": null,
   "metadata": {},
   "outputs": [],
   "source": [
    "currency['USA'] = 'USD' # The value of USA key which is Dollar is now updated to USD.\n",
    "currency['El salvador'] = ['USD','Bitcoin']\n",
    "print(currency)\n"
   ]
  },
  {
   "cell_type": "code",
   "execution_count": null,
   "metadata": {},
   "outputs": [],
   "source": [
    "menu = {\n",
    "    'dal makhani' : '200',\n",
    "    'roti' : '10',\n",
    "    'dal' : '30',\n",
    "    'shahi paneer' : '200'\n",
    "}\n",
    "\n",
    "print(menu.keys()) # to get the keys from the dictionary menu.\n",
    "print(menu.values()) # to get the values from the dictionary menu.\n"
   ]
  },
  {
   "cell_type": "markdown",
   "metadata": {},
   "source": [
    "### Check palindrome"
   ]
  },
  {
   "cell_type": "code",
   "execution_count": null,
   "metadata": {},
   "outputs": [],
   "source": [
    "def check_palindrome(a):\n",
    "    start = 0\n",
    "    end = len(a)-1\n",
    "\n",
    "    while(start<=end):\n",
    "        if(a[start] != a[end]):\n",
    "            return False\n",
    "        else:\n",
    "            start=start+1\n",
    "            end=end-1\n",
    "    return True\n",
    "\n",
    "a = input(\"Enter the string : \")\n",
    "if(check_palindrome(a)):\n",
    "    print(\"Palindrome\")\n",
    "else:\n",
    "    print(\"Not a Palindrome\")"
   ]
  },
  {
   "cell_type": "markdown",
   "metadata": {},
   "source": [
    "# 2D - Lists"
   ]
  },
  {
   "cell_type": "code",
   "execution_count": 4,
   "metadata": {},
   "outputs": [
    {
     "name": "stdout",
     "output_type": "stream",
     "text": [
      "[1, 2, 3, 4, 5]\n",
      "[6, 7, 8, 9, 10]\n",
      "[11, 12, 13, 14, 15]\n"
     ]
    }
   ],
   "source": [
    "a = [\n",
    "    [1,2,3,4,5],\n",
    "    [6,7,8,9,10],\n",
    "    [11,12,13,14,15]\n",
    "    ]\n",
    "print(a[0]) # This is the first row.\n",
    "print(a[1]) # This is the second row.\n",
    "print(a[2]) # This is the third row."
   ]
  },
  {
   "cell_type": "markdown",
   "metadata": {},
   "source": [
    "## Iteration over 2D - Lists"
   ]
  },
  {
   "cell_type": "code",
   "execution_count": 5,
   "metadata": {},
   "outputs": [
    {
     "name": "stdout",
     "output_type": "stream",
     "text": [
      "[1, 2, 3, 4, 5]\n",
      "[6, 7, 8, 9, 10]\n",
      "[11, 12, 13, 14, 15]\n"
     ]
    }
   ],
   "source": [
    "a = [\n",
    "    [1,2,3,4,5],\n",
    "    [6,7,8,9,10],\n",
    "    [11,12,13,14,15]\n",
    "    ]\n",
    "\n",
    "for row in a:\n",
    "    print(row) # To remove commas (,) and brackets [ ] just use ( *row ) instead of ( row )."
   ]
  },
  {
   "cell_type": "markdown",
   "metadata": {},
   "source": [
    "## To print the square of all the elements in the list"
   ]
  },
  {
   "cell_type": "code",
   "execution_count": 1,
   "metadata": {},
   "outputs": [
    {
     "name": "stdout",
     "output_type": "stream",
     "text": [
      "1 4 9 16 25 36 49 64 81 100 121 144 169 196 225 "
     ]
    }
   ],
   "source": [
    "a = [\n",
    "    [1,2,3,4,5],\n",
    "    [6,7,8,9,10],\n",
    "    [11,12,13,14,15]\n",
    "    ]\n",
    "\n",
    "for row in a:\n",
    "    for i in row:\n",
    "        print(i ** 2, end=\" \")"
   ]
  },
  {
   "cell_type": "markdown",
   "metadata": {},
   "source": [
    "### To get the value of list inside a list."
   ]
  },
  {
   "cell_type": "code",
   "execution_count": null,
   "metadata": {},
   "outputs": [],
   "source": [
    "print(a[0][1]) # 0 -> means [1,2,3,4,5] and 1 -> means in [1,2,3,4,5] at first index which is 2."
   ]
  },
  {
   "cell_type": "markdown",
   "metadata": {},
   "source": [
    "## Reading 2D Input\n",
    "\n",
    "let us say we are given an input as follows where the numbers of rows and columns is given first and then the 2D matrix:\n",
    "<pre>\n",
    "      2 4\n",
    "      1 2 3 4\n",
    "      5 6 7 8</pre>"
   ]
  },
  {
   "cell_type": "markdown",
   "metadata": {},
   "source": [
    "## Adding two matrix"
   ]
  },
  {
   "cell_type": "code",
   "execution_count": 7,
   "metadata": {},
   "outputs": [
    {
     "name": "stdout",
     "output_type": "stream",
     "text": [
      "[6, 8]\n",
      "[10, 12]\n"
     ]
    }
   ],
   "source": [
    "a = [\n",
    "    [1,2],\n",
    "    [3,4]\n",
    "]\n",
    "\n",
    "b = [\n",
    "    [5,6],\n",
    "    [7,8]\n",
    "]\n",
    "\n",
    "c = [\n",
    "    [0,0],\n",
    "    [0,0]\n",
    "]\n",
    "\n",
    "for i in range(len(a)):\n",
    "    for j in range(len(a)):\n",
    "        c[i][j] = a[i][j] + b[i][j] # To subtrack just remove (+) sign and use (-) sign.\n",
    "\n",
    "for k in c:\n",
    "    print(k)"
   ]
  },
  {
   "cell_type": "markdown",
   "metadata": {},
   "source": [
    "## Compute determinant of 2X2 matrices\n",
    "\n",
    "<code>det(A) = (a * d) - (b * c)</code>\n",
    "\n",
    "<pre>\n",
    "    | a  b |\n",
    "    | c  d | </pre>\n"
   ]
  },
  {
   "cell_type": "code",
   "execution_count": null,
   "metadata": {},
   "outputs": [],
   "source": [
    "a = [\n",
    "    [1,2],\n",
    "    [3,4]\n",
    "]\n",
    "\n",
    "det = (a[0][0] * a[1][1]) - (a[0][1] * a[1][0])\n",
    "print(det)"
   ]
  },
  {
   "cell_type": "markdown",
   "metadata": {},
   "source": [
    "## Compute the inverse of the matrix"
   ]
  },
  {
   "cell_type": "code",
   "execution_count": null,
   "metadata": {},
   "outputs": [],
   "source": [
    "a = [\n",
    "    [1,2],\n",
    "    [3,4]\n",
    "]\n",
    "\n"
   ]
  },
  {
   "cell_type": "code",
   "execution_count": null,
   "metadata": {},
   "outputs": [],
   "source": []
  },
  {
   "cell_type": "code",
   "execution_count": null,
   "metadata": {},
   "outputs": [],
   "source": []
  }
 ],
 "metadata": {
  "kernelspec": {
   "display_name": "Python 3",
   "language": "python",
   "name": "python3"
  },
  "language_info": {
   "codemirror_mode": {
    "name": "ipython",
    "version": 3
   },
   "file_extension": ".py",
   "mimetype": "text/x-python",
   "name": "python",
   "nbconvert_exporter": "python",
   "pygments_lexer": "ipython3",
   "version": "3.12.4"
  },
  "orig_nbformat": 4
 },
 "nbformat": 4,
 "nbformat_minor": 2
}
