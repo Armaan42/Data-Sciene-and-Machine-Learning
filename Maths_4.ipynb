{
 "cells": [
  {
   "cell_type": "markdown",
   "metadata": {},
   "source": [
    "### __Question : Two Sum__\n",
    "\n",
    "Given an array of integers nums and an integer target, return indices of the two numbers such that they add up to target.\n",
    "\n",
    "You may assume that each input would have exactly one solution, and you may not use the same element twice.\n",
    "\n",
    "__Example 1:__\n",
    "\n",
    "Input: nums = [2,7,11,15], target = 9\n",
    "\n",
    "Output: [0,1]\n",
    "\n",
    "Explanation: Because nums[0] + nums[1] == 9, we return [0, 1].\n",
    "\n",
    "__Example 2:__\n",
    "\n",
    "Input: nums = [3,2,4], target = 6\n",
    "\n",
    "Output: [1,2]\n",
    "\n",
    "__Example 3:__\n",
    "\n",
    "Input: nums = [3,3], target = 6\n",
    "\n",
    "Output: [0,1]"
   ]
  },
  {
   "cell_type": "code",
   "execution_count": 6,
   "metadata": {},
   "outputs": [
    {
     "name": "stdout",
     "output_type": "stream",
     "text": [
      "Indices of the two numbers that add up to 9: [0, 1]\n"
     ]
    }
   ],
   "source": [
    "def twosum(arr, target):\n",
    "    for i in range(len(arr)):\n",
    "        for j in range(i + 1, len(arr)):\n",
    "            if arr[i] + arr[j] == target:\n",
    "                return [i, j]\n",
    "    return []\n",
    "\n",
    "def get_user_input():\n",
    "    arr_input = input(\"Enter the list of integers separated by spaces: \")\n",
    "    arr = list(map(int, arr_input.split()))\n",
    "    \n",
    "    target_input = input(\"Enter the target integer: \")\n",
    "    target = int(target_input)\n",
    "    \n",
    "    result = twosum(arr, target)\n",
    "    if result:\n",
    "        print(f\"Indices of the two numbers that add up to {target}: {result}\")\n",
    "    else:\n",
    "        print(f\"No two numbers add up to {target}.\")\n",
    "\n",
    "get_user_input()"
   ]
  },
  {
   "cell_type": "markdown",
   "metadata": {},
   "source": [
    "## __Question : First Missing Integer__\n",
    "\n",
    "Given an unsorted integer array, find the first missing positive integer.\n",
    "\n",
    "Example:\n",
    "\n",
    "Given [1,2,0] return 3\n",
    "\n",
    "[3,4,-1,1] return 2,\n",
    "\n",
    "[-8,-7,-6] return 1"
   ]
  },
  {
   "cell_type": "code",
   "execution_count": 14,
   "metadata": {},
   "outputs": [
    {
     "data": {
      "text/plain": [
       "2"
      ]
     },
     "execution_count": 14,
     "metadata": {},
     "output_type": "execute_result"
    }
   ],
   "source": [
    "def first_missing_positive(nums):\n",
    "\n",
    "    i = 1\n",
    "    while True:\n",
    "        if i not in nums:\n",
    "            return i\n",
    "        i = i + 1\n",
    "\n",
    "first_missing_positive([3,4,-1,1])"
   ]
  },
  {
   "cell_type": "code",
   "execution_count": null,
   "metadata": {},
   "outputs": [],
   "source": []
  }
 ],
 "metadata": {
  "kernelspec": {
   "display_name": "Python 3",
   "language": "python",
   "name": "python3"
  },
  "language_info": {
   "codemirror_mode": {
    "name": "ipython",
    "version": 3
   },
   "file_extension": ".py",
   "mimetype": "text/x-python",
   "name": "python",
   "nbconvert_exporter": "python",
   "pygments_lexer": "ipython3",
   "version": "3.12.4"
  }
 },
 "nbformat": 4,
 "nbformat_minor": 2
}
