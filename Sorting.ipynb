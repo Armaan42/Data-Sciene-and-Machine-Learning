{
 "cells": [
  {
   "cell_type": "markdown",
   "metadata": {},
   "source": [
    "### Inbuilt sorting methods in python\n",
    "\n",
    " - sorted\n",
    " - sort"
   ]
  },
  {
   "cell_type": "code",
   "execution_count": 6,
   "metadata": {},
   "outputs": [
    {
     "name": "stdout",
     "output_type": "stream",
     "text": [
      "[1, 1, 3, 4, 5, 9]\n",
      "[3, 1, 4, 1, 5, 9]\n",
      "[1, 3, 5, 9]\n"
     ]
    }
   ],
   "source": [
    "# Using sorted() with a list\n",
    "numbers = [3, 1, 4, 1, 5, 9]\n",
    "sorted_numbers = sorted(numbers)\n",
    "print(sorted_numbers)  # Output: [1, 1, 3, 4, 5, 9]\n",
    "print(numbers)         # Output: [3, 1, 4, 1, 5, 9] (original list is unchanged)\n",
    "\n",
    "# Using sorted() with a tuple\n",
    "tuple_data = (5, 3, 9, 1)\n",
    "sorted_tuple = sorted(tuple_data)\n",
    "print(sorted_tuple)   # Output: [1, 3, 5, 9]\n"
   ]
  },
  {
   "cell_type": "markdown",
   "metadata": {},
   "source": [
    "### Reverse and sort the list"
   ]
  },
  {
   "cell_type": "code",
   "execution_count": 14,
   "metadata": {},
   "outputs": [
    {
     "data": {
      "text/plain": [
       "[9, 6, 6, 6, 5, 4, 3, 3, 2, 2]"
      ]
     },
     "execution_count": 14,
     "metadata": {},
     "output_type": "execute_result"
    }
   ],
   "source": [
    "a = [3,4,6,3,5,6,2,2,9,6]\n",
    "b = sorted(a, reverse=True) # this will print the reverse list\n",
    "b"
   ]
  },
  {
   "cell_type": "code",
   "execution_count": 7,
   "metadata": {},
   "outputs": [
    {
     "name": "stdout",
     "output_type": "stream",
     "text": [
      "[1, 1, 3, 4, 5, 9]\n",
      "['kiwi', 'apple', 'banana', 'cherry']\n"
     ]
    }
   ],
   "source": [
    "# Using sort() with a list\n",
    "numbers = [3, 1, 4, 1, 5, 9]\n",
    "numbers.sort()\n",
    "print(numbers)        # Output: [1, 1, 3, 4, 5, 9] (original list is modified)\n",
    "\n",
    "# Using sort() with a custom key\n",
    "strings = ['banana', 'apple', 'cherry','kiwi']\n",
    "strings.sort(key=len)\n",
    "print(strings)        # Output: ['apple', 'banana', 'cherry'] (sorted by length of strings)\n"
   ]
  },
  {
   "cell_type": "markdown",
   "metadata": {},
   "source": [
    "## Bubble Sort\n",
    "Bubble sort is a simple sorting algorithm that repeatedly steps through the list, compares adjacent elements, and swaps them if they are in the wrong order. The pass through the list is repeated until the list is sorted. Despite its simplicity, bubble sort is generally inefficient for large lists compared to more advanced sorting algorithms like quicksort or mergesort."
   ]
  },
  {
   "cell_type": "code",
   "execution_count": 43,
   "metadata": {},
   "outputs": [
    {
     "data": {
      "text/plain": [
       "[1, 2, 3, 5, 7, 8]"
      ]
     },
     "execution_count": 43,
     "metadata": {},
     "output_type": "execute_result"
    }
   ],
   "source": [
    "def bubble_sort(arr):\n",
    "    n = len(arr)\n",
    "\n",
    "    for i in range(n):\n",
    "        for j in range(0, n-1):\n",
    "            if arr[j] > arr[j+1]:\n",
    "                arr[j], arr[j+1] = arr[j+1], arr[j]\n",
    "    return arr\n",
    "\n",
    "number = [3,7,2,5,8,1]\n",
    "sorted_number = bubble_sort(numbers)\n",
    "sorted_number"
   ]
  },
  {
   "cell_type": "markdown",
   "metadata": {},
   "source": [
    "## Searching"
   ]
  },
  {
   "cell_type": "code",
   "execution_count": 9,
   "metadata": {},
   "outputs": [
    {
     "name": "stdout",
     "output_type": "stream",
     "text": [
      "Found at index -1\n"
     ]
    }
   ],
   "source": [
    "# linear search\n",
    "\n",
    "def linear_search(arr, key):\n",
    "    for i in range(len(arr)):\n",
    "        if arr[i] == key:\n",
    "            return i\n",
    "    return -1\n",
    "\n",
    "i = input(\"Enter the number separated by spaces: \")\n",
    "numbers = list(map(int, i.split()))\n",
    "\n",
    "key = int(input(\"Enter the key: \"))\n",
    "\n",
    "ans = linear_search(numbers, key)\n",
    "\n",
    "if ans == -1:\n",
    "    print(\"Not Found\")\n",
    "else:\n",
    "    print(\"Found at index\", ans)\n"
   ]
  },
  {
   "cell_type": "code",
   "execution_count": 16,
   "metadata": {},
   "outputs": [
    {
     "name": "stdout",
     "output_type": "stream",
     "text": [
      "Element found at index 3\n"
     ]
    }
   ],
   "source": [
    "# binary search - Divide and Conquer technique\n",
    "# Prequisite - Array must be sorted\n",
    "\n",
    "def binary_search(arr, key):\n",
    "    start = 0\n",
    "    end = len(arr) - 1\n",
    "\n",
    "    while start <= end:\n",
    "        mid = (start + end) // 2  # Use integer division to get the middle index\n",
    "\n",
    "        if arr[mid] == key:\n",
    "            return mid  # Key found at index mid\n",
    "        elif arr[mid] < key:\n",
    "            start = mid + 1  # Search in the right half\n",
    "        else:\n",
    "            end = mid - 1  # Search in the left half\n",
    "\n",
    "    return -1  # Key not found\n",
    "\n",
    "if __name__ == \"__main__\":\n",
    "    i = input(\"Enter the numbers separated by spaces: \")\n",
    "    numbers = list(map(int, i.split()))\n",
    "\n",
    "    key = int(input(\"Enter the key: \"))\n",
    "\n",
    "    # Ensure the array is sorted\n",
    "    numbers.sort()\n",
    "\n",
    "    result = binary_search(numbers, key)\n",
    "\n",
    "    if result != -1:\n",
    "        print(f\"Element found at index {result}\")\n",
    "    else:\n",
    "        print(\"Element not found\")\n"
   ]
  },
  {
   "cell_type": "markdown",
   "metadata": {},
   "source": [
    "## Duplicate elements - lowerbound, upperbound"
   ]
  },
  {
   "cell_type": "code",
   "execution_count": 13,
   "metadata": {},
   "outputs": [],
   "source": [
    "a = [1,2,2,2,2,3,3,3,3,4,4]\n",
    "\n",
    "target = 2\n",
    "\n",
    "n = len(a)"
   ]
  },
  {
   "cell_type": "markdown",
   "metadata": {},
   "source": [
    "### lowerbound - index at first occurence"
   ]
  },
  {
   "cell_type": "code",
   "execution_count": 19,
   "metadata": {},
   "outputs": [
    {
     "name": "stdout",
     "output_type": "stream",
     "text": [
      "Lower bound of 2 is at index 1\n"
     ]
    }
   ],
   "source": [
    "def find_lower_bound(arr, key):\n",
    "    start = 0\n",
    "    end = len(arr) - 1\n",
    "    result = len(arr)  # Initialize result to the length of the array (out of bounds)\n",
    "\n",
    "    while start <= end:\n",
    "        mid = (start + end) // 2\n",
    "        \n",
    "        if arr[mid] >= key:\n",
    "            result = mid\n",
    "            end = mid - 1\n",
    "        else:\n",
    "            start = mid + 1\n",
    "    \n",
    "    return result\n",
    "\n",
    "if __name__ == \"__main__\":\n",
    "    i = input(\"Enter the number separated by spaces: \")\n",
    "    numbers = list(map(int, i.split()))\n",
    "\n",
    "    key = int(input(\"Enter value to find: \"))\n",
    "    \n",
    "    index = find_lower_bound(numbers, key)\n",
    "    \n",
    "    if index != -1:\n",
    "        print(f\"Lower bound of {key} is at index {index}\")\n",
    "    else:\n",
    "        print(f\"{key} not found in the array.\")\n"
   ]
  },
  {
   "cell_type": "markdown",
   "metadata": {},
   "source": [
    "### upperbound - index at last occurence"
   ]
  },
  {
   "cell_type": "code",
   "execution_count": 1,
   "metadata": {},
   "outputs": [
    {
     "name": "stdout",
     "output_type": "stream",
     "text": [
      "Upper bound of 2 is at index 4\n"
     ]
    }
   ],
   "source": [
    "def find_upper_bound(arr, key):\n",
    "    start = 0\n",
    "    end = len(arr) - 1\n",
    "    result = len(arr)  # Initialize result to the length of the array (out of bounds)\n",
    "\n",
    "    while start <= end:\n",
    "        mid = (start + end) // 2\n",
    "        \n",
    "        if arr[mid] > key:\n",
    "            result = mid\n",
    "            end = mid - 1\n",
    "        else:\n",
    "            start = mid + 1\n",
    "    \n",
    "    return result\n",
    "\n",
    "if __name__ == \"__main__\":\n",
    "    # Example sorted array\n",
    "    numbers = [1, 2, 2, 2, 3]\n",
    "\n",
    "    key = 2\n",
    "    \n",
    "    index = find_upper_bound(numbers, key)\n",
    "    \n",
    "    print(f\"Upper bound of {key} is at index {index}\")"
   ]
  },
  {
   "cell_type": "code",
   "execution_count": 3,
   "metadata": {},
   "outputs": [
    {
     "name": "stdout",
     "output_type": "stream",
     "text": [
      "Lower bound of 2 is at index 1\n",
      "Upper bound of 2 is at index 4\n"
     ]
    }
   ],
   "source": [
    "def find_lower_bound(arr, key):\n",
    "    start = 0\n",
    "    end = len(arr) - 1\n",
    "    result = len(arr)  # Initialize result to the length of the array (out of bounds)\n",
    "\n",
    "    while start <= end:\n",
    "        mid = (start + end) // 2\n",
    "        \n",
    "        if arr[mid] >= key:\n",
    "            result = mid\n",
    "            end = mid - 1\n",
    "        else:\n",
    "            start = mid + 1\n",
    "    \n",
    "    return result\n",
    "\n",
    "def find_upper_bound(arr, key):\n",
    "    start = 0\n",
    "    end = len(arr) - 1\n",
    "    result = len(arr)  # Initialize result to the length of the array (out of bounds)\n",
    "\n",
    "    while start <= end:\n",
    "        mid = (start + end) // 2\n",
    "        \n",
    "        if arr[mid] > key:\n",
    "            result = mid\n",
    "            end = mid - 1\n",
    "        else:\n",
    "            start = mid + 1\n",
    "    \n",
    "    return result\n",
    "\n",
    "if __name__ == \"__main__\":\n",
    "    i = input(\"Enter the numbers separated by spaces: \")\n",
    "    numbers = list(map(int, i.split()))\n",
    "\n",
    "    numbers.sort()\n",
    "\n",
    "    key = int(input(\"Enter value to find: \"))\n",
    "    \n",
    "    lower_index = find_lower_bound(numbers, key)\n",
    "    upper_index = find_upper_bound(numbers, key)\n",
    "    \n",
    "    # Directly print results without extra conditions\n",
    "    print(f\"Lower bound of {key} is at index {lower_index}\")\n",
    "    print(f\"Upper bound of {key} is at index {upper_index}\")\n"
   ]
  },
  {
   "cell_type": "code",
   "execution_count": null,
   "metadata": {},
   "outputs": [],
   "source": []
  }
 ],
 "metadata": {
  "kernelspec": {
   "display_name": "Python 3",
   "language": "python",
   "name": "python3"
  },
  "language_info": {
   "codemirror_mode": {
    "name": "ipython",
    "version": 3
   },
   "file_extension": ".py",
   "mimetype": "text/x-python",
   "name": "python",
   "nbconvert_exporter": "python",
   "pygments_lexer": "ipython3",
   "version": "3.12.4"
  }
 },
 "nbformat": 4,
 "nbformat_minor": 2
}
