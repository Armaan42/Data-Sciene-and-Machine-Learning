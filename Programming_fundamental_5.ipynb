{
 "cells": [
  {
   "cell_type": "markdown",
   "metadata": {},
   "source": [
    "# Lists and Tuples"
   ]
  },
  {
   "cell_type": "markdown",
   "metadata": {},
   "source": [
    "### List slicing\n",
    "\n",
    "Default values of the start is 0 and of end is length of list  and by default step is 1 only"
   ]
  },
  {
   "cell_type": "code",
   "execution_count": null,
   "metadata": {},
   "outputs": [],
   "source": [
    "a = [1,2,3,4,5,6,7,8,9,10]\n",
    "\n",
    "print(a[3:6]) # started from 3 index ( 0-based indexing ) and go 5th index."
   ]
  },
  {
   "cell_type": "code",
   "execution_count": null,
   "metadata": {},
   "outputs": [],
   "source": [
    "b = a[3:7] # storing the sliced list into variable 'b' from list 'a'"
   ]
  },
  {
   "cell_type": "code",
   "execution_count": null,
   "metadata": {},
   "outputs": [],
   "source": [
    "print(a,b)"
   ]
  },
  {
   "cell_type": "code",
   "execution_count": null,
   "metadata": {},
   "outputs": [],
   "source": [
    "a[::] # This will print full list."
   ]
  },
  {
   "cell_type": "markdown",
   "metadata": {},
   "source": [
    "## Reverse a List\n",
    "\n",
    "Given a list of number, reverse it and print it (Both with and without in-built function)"
   ]
  },
  {
   "cell_type": "code",
   "execution_count": null,
   "metadata": {},
   "outputs": [],
   "source": [
    "#using list slicing method\n",
    "\n",
    "a = [1,2,3,4,5]\n",
    "print(a[::-1])"
   ]
  },
  {
   "cell_type": "code",
   "execution_count": null,
   "metadata": {},
   "outputs": [],
   "source": [
    "#using built-in function\n",
    "\n",
    "a = [1,2,3,4,5]\n",
    "a.reverse()\n",
    "print(a)"
   ]
  },
  {
   "cell_type": "code",
   "execution_count": null,
   "metadata": {},
   "outputs": [],
   "source": [
    "#using without built-in function\n",
    "\n",
    "a = [1,2,3,4,5]\n",
    "for i in range(len(a)-1,-1,-1):\n",
    "    print(a[i],end=' ')"
   ]
  },
  {
   "cell_type": "markdown",
   "metadata": {},
   "source": [
    "## List comprehension\n",
    "\n",
    "List comprehension is an elegant way to define and create lists based on existing lists.\n",
    "<pre>\n",
    "    syntax:\n",
    "        [expression for items in list]\n",
    "</pre>"
   ]
  },
  {
   "cell_type": "markdown",
   "metadata": {},
   "source": [
    "print a square list from 1 to 100"
   ]
  },
  {
   "cell_type": "code",
   "execution_count": null,
   "metadata": {},
   "outputs": [],
   "source": [
    "a=[]\n",
    "for i in range(1,100+1): \n",
    "    a.append(i**2)\n",
    "print(a)"
   ]
  },
  {
   "cell_type": "markdown",
   "metadata": {},
   "source": [
    "### Using list comprehension method"
   ]
  },
  {
   "cell_type": "code",
   "execution_count": null,
   "metadata": {},
   "outputs": [],
   "source": [
    "a = [i**2 for i in range(1,101)]\n",
    "print(a)"
   ]
  },
  {
   "cell_type": "markdown",
   "metadata": {},
   "source": [
    "given a list of random numbers, filter out all even numbers from it."
   ]
  },
  {
   "cell_type": "code",
   "execution_count": null,
   "metadata": {},
   "outputs": [],
   "source": [
    "#method_1\n",
    "\n",
    "a = [1,2,3,4,5,6,7,8,9,10]\n",
    "b = []\n",
    "for i in a:\n",
    "    if(i % 2 == 0):\n",
    "        b.append(i)\n",
    "print(b)"
   ]
  },
  {
   "cell_type": "code",
   "execution_count": null,
   "metadata": {},
   "outputs": [],
   "source": [
    "#method_2\n",
    "\n",
    "b = [x for x in a if x%2 == 0]\n",
    "print(b)"
   ]
  },
  {
   "cell_type": "markdown",
   "metadata": {},
   "source": [
    "# Tuples\n",
    "<li>Frankly, tuple is read-only list</li>\n",
    "<li>Tuples are used to store multiple items in a single variable</li>\n",
    "<li>A tuples is a collection which is ordered and immutable (unchangeable)</li>\n",
    "<li>Tuples are written with round brackets.</li>\n",
    "<li>Tuples items are indexed, the first item has index[0], the second item has index[1], etc</li>\n",
    "<li>Tuples can be created with tuples constructor - tuple()</li>\n",
    "<li>Tuples can also be created by simply writing multiple values with comma separation</li>\n",
    "<li>Tuples are processed faster than lists in python</li>\n",
    "\n",
    "### Common tuple operations\n",
    "<ol type=\"1\">\n",
    "    <li>index</li> <pre>tuple.index(item)</pre>\n",
    "    <li>slicing</li> <pre>tuple[range]</pre>\n",
    "    <li>concatenation</li> <pre>tuple_1 + tuple_2</pre>\n",
    "    <li>repetition</li> <pre>tuple * x</pre>\n",
    "    <li>count</li> <pre>tuple.count(item) </pre>\n",
    "\n",
    "</ol>"
   ]
  },
  {
   "cell_type": "markdown",
   "metadata": {},
   "source": [
    "## Creation"
   ]
  },
  {
   "cell_type": "code",
   "execution_count": null,
   "metadata": {},
   "outputs": [],
   "source": [
    "tuple_1 = ('a', 'b', 'c')\n",
    "print(tuple_1)"
   ]
  },
  {
   "cell_type": "markdown",
   "metadata": {},
   "source": [
    "## code for tuple creation"
   ]
  },
  {
   "cell_type": "code",
   "execution_count": null,
   "metadata": {},
   "outputs": [],
   "source": [
    "t = tuple()\n",
    "n = int(input(\"Enter the length of the tuple : \"))\n",
    "for i in range(0,n):\n",
    "    a = int(input(\"Enter the number : \"))\n",
    "    t = t + (a, )\n",
    "print(t)"
   ]
  },
  {
   "cell_type": "markdown",
   "metadata": {},
   "source": [
    "### Nested-tuple"
   ]
  },
  {
   "cell_type": "code",
   "execution_count": null,
   "metadata": {},
   "outputs": [],
   "source": [
    "t1 = (1,2,3)\n",
    "t2 = ('a', 'b', 'c')\n",
    "t3 = (t1, t2)\n",
    "print(t3)"
   ]
  },
  {
   "cell_type": "markdown",
   "metadata": {},
   "source": [
    "### Create a nested list to store roll numbers, name and marks of students"
   ]
  },
  {
   "cell_type": "code",
   "execution_count": null,
   "metadata": {},
   "outputs": [],
   "source": [
    "st = ((1124,\"armaan\",100),(35245,\"kiran\",99), (23523,\"rohan\",98),(25234,\"upendra\",97))\n",
    "print(\"s_no\",\"    roll_no\",\"Name\",\"   Marks\")\n",
    "for i in range(0,len(st)):\n",
    "    print((i+1),'\\t',st[i][0],'\\t',st[i][1],'\\t',st[i][2])"
   ]
  },
  {
   "cell_type": "markdown",
   "metadata": {},
   "source": [
    "### check if sorted\n",
    "Given a list of numbers, check if it sorted ( in increasing order )."
   ]
  },
  {
   "cell_type": "code",
   "execution_count": null,
   "metadata": {},
   "outputs": [],
   "source": [
    "a =( 1,4,10,12,14,18,20 )\n",
    "ans = \"sorted\" \n",
    "for i in range(len(a)-1):\n",
    "    if(a[i] < a[i+1]):\n",
    "        continue\n",
    "    else:\n",
    "        ans=\"not_sorted\"\n",
    "print(ans)"
   ]
  },
  {
   "cell_type": "markdown",
   "metadata": {},
   "source": [
    "### Write a function which returns the product of all its arguments.\n",
    "\n",
    "The user should call the function like\n",
    "\n",
    "    product(2,3,9) #54\n",
    "\n",
    "    product(4,2)   #8\n",
    "    \n",
    "The function should be able to accept any number of arguments."
   ]
  },
  {
   "cell_type": "code",
   "execution_count": null,
   "metadata": {},
   "outputs": [],
   "source": [
    "def product(*nums): # here we pass the tuple of arguments just using the *<variable_name>\n",
    "    return(nums,type(nums)) \n",
    "product(10,20,30)\n"
   ]
  },
  {
   "cell_type": "code",
   "execution_count": null,
   "metadata": {},
   "outputs": [],
   "source": [
    "#code\n",
    "\n",
    "def product(*args):\n",
    "    p=1\n",
    "    for i in args:\n",
    "        p = p * i\n",
    "    return p\n",
    "\n",
    "product(10,20,30) #here you can n-numbers of arguments.\n"
   ]
  },
  {
   "cell_type": "markdown",
   "metadata": {},
   "source": [
    "### Cool way to print list i.e., to remove backets"
   ]
  },
  {
   "cell_type": "code",
   "execution_count": null,
   "metadata": {},
   "outputs": [],
   "source": [
    "a = [1,2,3,4,5]\n",
    "print(\"Without cool way -> \",a) \n",
    "print(\"Cool way -> \",*a) # (*) -> spread operator "
   ]
  },
  {
   "cell_type": "code",
   "execution_count": null,
   "metadata": {},
   "outputs": [],
   "source": []
  },
  {
   "cell_type": "code",
   "execution_count": null,
   "metadata": {},
   "outputs": [],
   "source": []
  },
  {
   "cell_type": "code",
   "execution_count": null,
   "metadata": {},
   "outputs": [],
   "source": []
  }
 ],
 "metadata": {
  "kernelspec": {
   "display_name": "Python 3",
   "language": "python",
   "name": "python3"
  },
  "language_info": {
   "codemirror_mode": {
    "name": "ipython",
    "version": 3
   },
   "file_extension": ".py",
   "mimetype": "text/x-python",
   "name": "python",
   "nbconvert_exporter": "python",
   "pygments_lexer": "ipython3",
   "version": "3.12.4"
  },
  "orig_nbformat": 4
 },
 "nbformat": 4,
 "nbformat_minor": 2
}
